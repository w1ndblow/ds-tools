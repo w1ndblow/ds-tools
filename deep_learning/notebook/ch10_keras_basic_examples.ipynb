{
 "cells": [
  {
   "cell_type": "markdown",
   "id": "9cb7d3d8",
   "metadata": {
    "toc": true
   },
   "source": [
    "<h1>Table of Contents<span class=\"tocSkip\"></span></h1>\n",
    "<div class=\"toc\"><ul class=\"toc-item\"><li><span><a href=\"#MLP-Classification---MNIST-Fashion\" data-toc-modified-id=\"MLP-Classification---MNIST-Fashion-1\"><span class=\"toc-item-num\">1&nbsp;&nbsp;</span>MLP Classification - MNIST Fashion</a></span></li><li><span><a href=\"#MLP-Regression---California-Housing\" data-toc-modified-id=\"MLP-Regression---California-Housing-2\"><span class=\"toc-item-num\">2&nbsp;&nbsp;</span>MLP Regression - California Housing</a></span></li><li><span><a href=\"#Functional-API\" data-toc-modified-id=\"Functional-API-3\"><span class=\"toc-item-num\">3&nbsp;&nbsp;</span>Functional API</a></span><ul class=\"toc-item\"><li><span><a href=\"#Customizable-architecture\" data-toc-modified-id=\"Customizable-architecture-3.1\"><span class=\"toc-item-num\">3.1&nbsp;&nbsp;</span>Customizable architecture</a></span></li><li><span><a href=\"#Multiple-inputs\" data-toc-modified-id=\"Multiple-inputs-3.2\"><span class=\"toc-item-num\">3.2&nbsp;&nbsp;</span>Multiple inputs</a></span></li><li><span><a href=\"#Adding-extra-output\" data-toc-modified-id=\"Adding-extra-output-3.3\"><span class=\"toc-item-num\">3.3&nbsp;&nbsp;</span>Adding extra output</a></span></li></ul></li><li><span><a href=\"#Subclassing-API-for-Dynamic-Model\" data-toc-modified-id=\"Subclassing-API-for-Dynamic-Model-4\"><span class=\"toc-item-num\">4&nbsp;&nbsp;</span>Subclassing API for Dynamic Model</a></span></li><li><span><a href=\"#Save-and-load-the-model\" data-toc-modified-id=\"Save-and-load-the-model-5\"><span class=\"toc-item-num\">5&nbsp;&nbsp;</span>Save and load the model</a></span></li><li><span><a href=\"#Callbacks\" data-toc-modified-id=\"Callbacks-6\"><span class=\"toc-item-num\">6&nbsp;&nbsp;</span>Callbacks</a></span></li><li><span><a href=\"#TensorBoard\" data-toc-modified-id=\"TensorBoard-7\"><span class=\"toc-item-num\">7&nbsp;&nbsp;</span>TensorBoard</a></span></li><li><span><a href=\"#Hyperparameter-Tuning\" data-toc-modified-id=\"Hyperparameter-Tuning-8\"><span class=\"toc-item-num\">8&nbsp;&nbsp;</span>Hyperparameter Tuning</a></span></li></ul></div>"
   ]
  },
  {
   "cell_type": "code",
   "execution_count": 1,
   "id": "8e70ca95",
   "metadata": {
    "hide_input": false
   },
   "outputs": [],
   "source": [
    "import tensorflow as tf\n",
    "from tensorflow import keras\n",
    "from tensorflow.keras import models, layers\n",
    "import matplotlib.pyplot as plt\n",
    "import pandas as pd\n",
    "\n",
    "from sklearn.preprocessing import minmax_scale, StandardScaler\n",
    "from sklearn.model_selection import train_test_split\n",
    "from sklearn.datasets import fetch_california_housing"
   ]
  },
  {
   "cell_type": "code",
   "execution_count": 2,
   "id": "63ebb6d0",
   "metadata": {},
   "outputs": [
    {
     "data": {
      "text/plain": [
       "'2.4.1'"
      ]
     },
     "execution_count": 2,
     "metadata": {},
     "output_type": "execute_result"
    }
   ],
   "source": [
    "tf.__version__"
   ]
  },
  {
   "cell_type": "code",
   "execution_count": 3,
   "id": "f5db273d",
   "metadata": {},
   "outputs": [
    {
     "data": {
      "text/plain": [
       "'2.4.0'"
      ]
     },
     "execution_count": 3,
     "metadata": {},
     "output_type": "execute_result"
    }
   ],
   "source": [
    "keras.__version__"
   ]
  },
  {
   "cell_type": "markdown",
   "id": "cbcdd96e",
   "metadata": {},
   "source": [
    "There are three ways to create Keras models:\n",
    "\n",
    "- The Sequential model, which is very straightforward (a simple list of layers), but is limited to single-input, single-output stacks of layers (as the name gives away).\n",
    "- The Functional API, which is an easy-to-use, fully-featured API that supports arbitrary model architectures. For most people and most use cases, this is what you should be using. This is the Keras \"industry strength\" model.\n",
    "- Model subclassing, where you implement everything from scratch on your own. Use this if you have complex, out-of-the-box research use cases."
   ]
  },
  {
   "cell_type": "markdown",
   "id": "5fba0d3a",
   "metadata": {},
   "source": [
    "## MLP Classification - MNIST Fashion"
   ]
  },
  {
   "cell_type": "code",
   "execution_count": 4,
   "id": "85f69d4b",
   "metadata": {},
   "outputs": [],
   "source": [
    "(X_train, y_train), (X_test, y_test) = keras.datasets.fashion_mnist.load_data()"
   ]
  },
  {
   "cell_type": "code",
   "execution_count": 5,
   "id": "4442133f",
   "metadata": {},
   "outputs": [],
   "source": [
    "X_train, X_test = X_train / 255, X_test / 255\n",
    "X_train, X_val, y_train, y_val = train_test_split(X_train, y_train, \n",
    "                                                  test_size=5000, stratify=y_train)"
   ]
  },
  {
   "cell_type": "code",
   "execution_count": 6,
   "id": "2a5bb778",
   "metadata": {},
   "outputs": [],
   "source": [
    "class_names = [ \"T-shirt/top\" , \"Trouser\" , \"Pullover\" , \"Dress\" , \"Coat\" , \n",
    "               \"Sandal\" , \"Shirt\" , \"Sneaker\" , \"Bag\" , \"Ankle boot\" ] "
   ]
  },
  {
   "cell_type": "code",
   "execution_count": 7,
   "id": "bf897654",
   "metadata": {},
   "outputs": [
    {
     "data": {
      "image/png": "[encoded data removed]",
      "text/plain": [
       "<Figure size 360x360 with 1 Axes>"
      ]
     },
     "metadata": {
      "needs_background": "light"
     },
     "output_type": "display_data"
    }
   ],
   "source": [
    "fig = plt.figure(figsize=(5, 5))\n",
    "plt.imshow(X_train[0], cmap='gray_r')\n",
    "plt.axis('off')\n",
    "plt.show()"
   ]
  },
  {
   "cell_type": "code",
   "execution_count": 8,
   "id": "aa389b70",
   "metadata": {},
   "outputs": [
    {
     "data": {
      "text/plain": [
       "'Dress'"
      ]
     },
     "execution_count": 8,
     "metadata": {},
     "output_type": "execute_result"
    }
   ],
   "source": [
    "class_names[y_train[0]]"
   ]
  },
  {
   "cell_type": "code",
   "execution_count": 9,
   "id": "9d140e49",
   "metadata": {},
   "outputs": [],
   "source": [
    "model = keras.models.Sequential()\n",
    "model.add(keras.layers.Flatten(input_shape=[28, 28]))\n",
    "model.add(keras.layers.Dense(300, activation='relu'))\n",
    "model.add(keras.layers.Dense(100, activation='relu'))\n",
    "model.add(keras.layers.Dense(10, activation='softmax'))"
   ]
  },
  {
   "cell_type": "code",
   "execution_count": 10,
   "id": "1744133f",
   "metadata": {},
   "outputs": [
    {
     "name": "stdout",
     "output_type": "stream",
     "text": [
      "Model: \"sequential\"\n",
      "_________________________________________________________________\n",
      "Layer (type)                 Output Shape              Param #   \n",
      "=================================================================\n",
      "flatten (Flatten)            (None, 784)               0         \n",
      "_________________________________________________________________\n",
      "dense (Dense)                (None, 300)               235500    \n",
      "_________________________________________________________________\n",
      "dense_1 (Dense)              (None, 100)               30100     \n",
      "_________________________________________________________________\n",
      "dense_2 (Dense)              (None, 10)                1010      \n",
      "=================================================================\n",
      "Total params: 266,610\n",
      "Trainable params: 266,610\n",
      "Non-trainable params: 0\n",
      "_________________________________________________________________\n"
     ]
    }
   ],
   "source": [
    "model.summary()"
   ]
  },
  {
   "cell_type": "code",
   "execution_count": 11,
   "id": "22ef0b38",
   "metadata": {},
   "outputs": [],
   "source": [
    "model2 = models.Sequential([ \n",
    "    layers.InputLayer(input_shape=[28, 28]),\n",
    "    layers.Flatten(),\n",
    "    layers.Dense(300, activation='relu'),\n",
    "    layers.Dense(100, activation='relu'),\n",
    "    layers.Dense(10, activation='softmax')\n",
    "])"
   ]
  },
  {
   "cell_type": "code",
   "execution_count": 12,
   "id": "d05336eb",
   "metadata": {},
   "outputs": [
    {
     "name": "stdout",
     "output_type": "stream",
     "text": [
      "Model: \"sequential_1\"\n",
      "_________________________________________________________________\n",
      "Layer (type)                 Output Shape              Param #   \n",
      "=================================================================\n",
      "flatten_1 (Flatten)          (None, 784)               0         \n",
      "_________________________________________________________________\n",
      "dense_3 (Dense)              (None, 300)               235500    \n",
      "_________________________________________________________________\n",
      "dense_4 (Dense)              (None, 100)               30100     \n",
      "_________________________________________________________________\n",
      "dense_5 (Dense)              (None, 10)                1010      \n",
      "=================================================================\n",
      "Total params: 266,610\n",
      "Trainable params: 266,610\n",
      "Non-trainable params: 0\n",
      "_________________________________________________________________\n"
     ]
    }
   ],
   "source": [
    "model2.summary()"
   ]
  },
  {
   "cell_type": "code",
   "execution_count": 13,
   "id": "b6ae6a08",
   "metadata": {},
   "outputs": [
    {
     "data": {
      "text/plain": [
       "[<tensorflow.python.keras.layers.core.Flatten at 0x17c11f670>,\n",
       " <tensorflow.python.keras.layers.core.Dense at 0x17c1da0a0>,\n",
       " <tensorflow.python.keras.layers.core.Dense at 0x17c248880>,\n",
       " <tensorflow.python.keras.layers.core.Dense at 0x17c271640>]"
      ]
     },
     "execution_count": 13,
     "metadata": {},
     "output_type": "execute_result"
    }
   ],
   "source": [
    "model.layers"
   ]
  },
  {
   "cell_type": "code",
   "execution_count": 14,
   "id": "7542b1d8",
   "metadata": {},
   "outputs": [],
   "source": [
    "hidden1 = model.layers[1]"
   ]
  },
  {
   "cell_type": "code",
   "execution_count": 15,
   "id": "6811cfb1",
   "metadata": {},
   "outputs": [
    {
     "data": {
      "text/plain": [
       "'dense'"
      ]
     },
     "execution_count": 15,
     "metadata": {},
     "output_type": "execute_result"
    }
   ],
   "source": [
    "hidden1.name"
   ]
  },
  {
   "cell_type": "code",
   "execution_count": 16,
   "id": "50833fbc",
   "metadata": {},
   "outputs": [
    {
     "data": {
      "text/plain": [
       "'flatten'"
      ]
     },
     "execution_count": 16,
     "metadata": {},
     "output_type": "execute_result"
    }
   ],
   "source": [
    "model.layers[0].name"
   ]
  },
  {
   "cell_type": "code",
   "execution_count": 17,
   "id": "c4a33b06",
   "metadata": {},
   "outputs": [],
   "source": [
    "weights, biases = hidden1.get_weights()"
   ]
  },
  {
   "cell_type": "code",
   "execution_count": 18,
   "id": "97a43f3a",
   "metadata": {},
   "outputs": [
    {
     "data": {
      "text/plain": [
       "(784, 300)"
      ]
     },
     "execution_count": 18,
     "metadata": {},
     "output_type": "execute_result"
    }
   ],
   "source": [
    "weights.shape"
   ]
  },
  {
   "cell_type": "code",
   "execution_count": 19,
   "id": "78dd3942",
   "metadata": {},
   "outputs": [
    {
     "data": {
      "text/plain": [
       "(300,)"
      ]
     },
     "execution_count": 19,
     "metadata": {},
     "output_type": "execute_result"
    }
   ],
   "source": [
    "biases.shape"
   ]
  },
  {
   "cell_type": "code",
   "execution_count": 20,
   "id": "c0c0586f",
   "metadata": {},
   "outputs": [],
   "source": [
    "model.compile(loss='sparse_categorical_crossentropy',\n",
    "             optimizer='sgd',\n",
    "             metrics=['accuracy'])"
   ]
  },
  {
   "cell_type": "code",
   "execution_count": 21,
   "id": "f3a1bd85",
   "metadata": {
    "scrolled": true
   },
   "outputs": [
    {
     "name": "stdout",
     "output_type": "stream",
     "text": [
      "Epoch 1/30\n",
      "1719/1719 [==============================] - 3s 2ms/step - loss: 0.9860 - accuracy: 0.6961 - val_loss: 0.5629 - val_accuracy: 0.7984\n",
      "Epoch 2/30\n",
      "1719/1719 [==============================] - 2s 1ms/step - loss: 0.5024 - accuracy: 0.8259 - val_loss: 0.4684 - val_accuracy: 0.8358\n",
      "Epoch 3/30\n",
      "1719/1719 [==============================] - 2s 1ms/step - loss: 0.4500 - accuracy: 0.8438 - val_loss: 0.4308 - val_accuracy: 0.8520\n",
      "Epoch 4/30\n",
      "1719/1719 [==============================] - 2s 1ms/step - loss: 0.4155 - accuracy: 0.8526 - val_loss: 0.4374 - val_accuracy: 0.8490\n",
      "Epoch 5/30\n",
      "1719/1719 [==============================] - 2s 1ms/step - loss: 0.3965 - accuracy: 0.8593 - val_loss: 0.4037 - val_accuracy: 0.8550\n",
      "Epoch 6/30\n",
      "1719/1719 [==============================] - 2s 1ms/step - loss: 0.3790 - accuracy: 0.8657 - val_loss: 0.4017 - val_accuracy: 0.8616\n",
      "Epoch 7/30\n",
      "1719/1719 [==============================] - 2s 1ms/step - loss: 0.3658 - accuracy: 0.8703 - val_loss: 0.3991 - val_accuracy: 0.8592\n",
      "Epoch 8/30\n",
      "1719/1719 [==============================] - 2s 1ms/step - loss: 0.3538 - accuracy: 0.8738 - val_loss: 0.4166 - val_accuracy: 0.8472\n",
      "Epoch 9/30\n",
      "1719/1719 [==============================] - 2s 1ms/step - loss: 0.3471 - accuracy: 0.8783 - val_loss: 0.3564 - val_accuracy: 0.8764\n",
      "Epoch 10/30\n",
      "1719/1719 [==============================] - 3s 1ms/step - loss: 0.3325 - accuracy: 0.8814 - val_loss: 0.3510 - val_accuracy: 0.8808\n",
      "Epoch 11/30\n",
      "1719/1719 [==============================] - 2s 1ms/step - loss: 0.3312 - accuracy: 0.8825 - val_loss: 0.3379 - val_accuracy: 0.8840\n",
      "Epoch 12/30\n",
      "1719/1719 [==============================] - 2s 1ms/step - loss: 0.3172 - accuracy: 0.8848 - val_loss: 0.3421 - val_accuracy: 0.8820\n",
      "Epoch 13/30\n",
      "1719/1719 [==============================] - 2s 1ms/step - loss: 0.3124 - accuracy: 0.8870 - val_loss: 0.3325 - val_accuracy: 0.8824\n",
      "Epoch 14/30\n",
      "1719/1719 [==============================] - 2s 1ms/step - loss: 0.3038 - accuracy: 0.8920 - val_loss: 0.3457 - val_accuracy: 0.8792\n",
      "Epoch 15/30\n",
      "1719/1719 [==============================] - 2s 1ms/step - loss: 0.2997 - accuracy: 0.8908 - val_loss: 0.3422 - val_accuracy: 0.8818\n",
      "Epoch 16/30\n",
      "1719/1719 [==============================] - 2s 1ms/step - loss: 0.2908 - accuracy: 0.8967 - val_loss: 0.3668 - val_accuracy: 0.8688\n",
      "Epoch 17/30\n",
      "1719/1719 [==============================] - 2s 1ms/step - loss: 0.2861 - accuracy: 0.8978 - val_loss: 0.3597 - val_accuracy: 0.8676\n",
      "Epoch 18/30\n",
      "1719/1719 [==============================] - 2s 1ms/step - loss: 0.2800 - accuracy: 0.8987 - val_loss: 0.3235 - val_accuracy: 0.8876\n",
      "Epoch 19/30\n",
      "1719/1719 [==============================] - 2s 1ms/step - loss: 0.2729 - accuracy: 0.9025 - val_loss: 0.3187 - val_accuracy: 0.8870\n",
      "Epoch 20/30\n",
      "1719/1719 [==============================] - 2s 1ms/step - loss: 0.2619 - accuracy: 0.9057 - val_loss: 0.3149 - val_accuracy: 0.8896\n",
      "Epoch 21/30\n",
      "1719/1719 [==============================] - 2s 1ms/step - loss: 0.2584 - accuracy: 0.9069 - val_loss: 0.3140 - val_accuracy: 0.8904\n",
      "Epoch 22/30\n",
      "1719/1719 [==============================] - 2s 1ms/step - loss: 0.2572 - accuracy: 0.9079 - val_loss: 0.3067 - val_accuracy: 0.8936\n",
      "Epoch 23/30\n",
      "1719/1719 [==============================] - 2s 1ms/step - loss: 0.2571 - accuracy: 0.9069 - val_loss: 0.3058 - val_accuracy: 0.8934\n",
      "Epoch 24/30\n",
      "1719/1719 [==============================] - 2s 1ms/step - loss: 0.2460 - accuracy: 0.9100 - val_loss: 0.3088 - val_accuracy: 0.8920\n",
      "Epoch 25/30\n",
      "1719/1719 [==============================] - 2s 1ms/step - loss: 0.2424 - accuracy: 0.9145 - val_loss: 0.3036 - val_accuracy: 0.8954\n",
      "Epoch 26/30\n",
      "1719/1719 [==============================] - 2s 1ms/step - loss: 0.2419 - accuracy: 0.9134 - val_loss: 0.3004 - val_accuracy: 0.8940\n",
      "Epoch 27/30\n",
      "1719/1719 [==============================] - 3s 1ms/step - loss: 0.2329 - accuracy: 0.9164 - val_loss: 0.3444 - val_accuracy: 0.8740\n",
      "Epoch 28/30\n",
      "1719/1719 [==============================] - 3s 1ms/step - loss: 0.2289 - accuracy: 0.9187 - val_loss: 0.3006 - val_accuracy: 0.8962\n",
      "Epoch 29/30\n",
      "1719/1719 [==============================] - 3s 1ms/step - loss: 0.2288 - accuracy: 0.9181 - val_loss: 0.2998 - val_accuracy: 0.8928\n",
      "Epoch 30/30\n",
      "1719/1719 [==============================] - 2s 1ms/step - loss: 0.2208 - accuracy: 0.9199 - val_loss: 0.3094 - val_accuracy: 0.8888\n"
     ]
    }
   ],
   "source": [
    "history = model.fit(X_train, y_train, epochs=30, validation_data=(X_val, y_val))"
   ]
  },
  {
   "cell_type": "code",
   "execution_count": 22,
   "id": "2feab163",
   "metadata": {},
   "outputs": [
    {
     "data": {
      "image/png": "[encoded data removed]",
      "text/plain": [
       "<Figure size 576x432 with 1 Axes>"
      ]
     },
     "metadata": {
      "needs_background": "light"
     },
     "output_type": "display_data"
    }
   ],
   "source": [
    "pd.DataFrame(history.history).plot(figsize=(8, 6), grid=True, ylim=[0, 1])\n",
    "plt.show()"
   ]
  },
  {
   "cell_type": "code",
   "execution_count": 23,
   "id": "9596c942",
   "metadata": {},
   "outputs": [
    {
     "name": "stdout",
     "output_type": "stream",
     "text": [
      "313/313 [==============================] - 0s 774us/step - loss: 0.3408 - accuracy: 0.8770\n"
     ]
    },
    {
     "data": {
      "text/plain": [
       "[0.34080323576927185, 0.8769999742507935]"
      ]
     },
     "execution_count": 23,
     "metadata": {},
     "output_type": "execute_result"
    }
   ],
   "source": [
    "model.evaluate(X_test, y_test)"
   ]
  },
  {
   "cell_type": "code",
   "execution_count": 24,
   "id": "266c7980",
   "metadata": {},
   "outputs": [
    {
     "name": "stdout",
     "output_type": "stream",
     "text": [
      "['Ankle boot', 'Pullover', 'Trouser']\n"
     ]
    }
   ],
   "source": [
    "X_new = X_test[:3]\n",
    "y_proba = model.predict(X_new)\n",
    "y_pred = y_proba.argmax(axis=1)\n",
    "print([class_names[i] for i in y_pred])"
   ]
  },
  {
   "cell_type": "code",
   "execution_count": 25,
   "id": "f2c2a2d8",
   "metadata": {},
   "outputs": [
    {
     "data": {
      "image/png": "[encoded data removed]",
      "text/plain": [
       "<Figure size 432x288 with 1 Axes>"
      ]
     },
     "metadata": {
      "needs_background": "light"
     },
     "output_type": "display_data"
    },
    {
     "data": {
      "image/png": "[encoded data removed]",
      "text/plain": [
       "<Figure size 432x288 with 1 Axes>"
      ]
     },
     "metadata": {
      "needs_background": "light"
     },
     "output_type": "display_data"
    },
    {
     "data": {
      "image/png": "[encoded data removed]",
      "text/plain": [
       "<Figure size 432x288 with 1 Axes>"
      ]
     },
     "metadata": {
      "needs_background": "light"
     },
     "output_type": "display_data"
    }
   ],
   "source": [
    "for x in X_new:\n",
    "    plt.axis('off')\n",
    "    plt.imshow(x, cmap='gray_r')\n",
    "    plt.show()"
   ]
  },
  {
   "cell_type": "markdown",
   "id": "a59f5ae8",
   "metadata": {},
   "source": [
    "## MLP Regression - California Housing"
   ]
  },
  {
   "cell_type": "code",
   "execution_count": 26,
   "id": "a306a0c9",
   "metadata": {},
   "outputs": [],
   "source": [
    "housing = fetch_california_housing()"
   ]
  },
  {
   "cell_type": "code",
   "execution_count": 27,
   "id": "08dd3a1d",
   "metadata": {},
   "outputs": [
    {
     "data": {
      "text/plain": [
       "dict_keys(['data', 'target', 'frame', 'target_names', 'feature_names', 'DESCR'])"
      ]
     },
     "execution_count": 27,
     "metadata": {},
     "output_type": "execute_result"
    }
   ],
   "source": [
    "housing.keys()"
   ]
  },
  {
   "cell_type": "code",
   "execution_count": 28,
   "id": "39e17297",
   "metadata": {},
   "outputs": [],
   "source": [
    "X_train, X_test, y_train, y_test = train_test_split(housing['data'], housing['target'])\n",
    "\n",
    "scaler = StandardScaler()\n",
    "X_train = scaler.fit_transform(X_train)\n",
    "X_test = scaler.transform(X_test)"
   ]
  },
  {
   "cell_type": "code",
   "execution_count": 29,
   "id": "e5456dd0",
   "metadata": {},
   "outputs": [
    {
     "data": {
      "text/plain": [
       "8"
      ]
     },
     "execution_count": 29,
     "metadata": {},
     "output_type": "execute_result"
    }
   ],
   "source": [
    "X_train.shape[1]"
   ]
  },
  {
   "cell_type": "code",
   "execution_count": 30,
   "id": "418c0a06",
   "metadata": {
    "scrolled": true
   },
   "outputs": [
    {
     "name": "stdout",
     "output_type": "stream",
     "text": [
      "Epoch 1/20\n",
      "363/363 [==============================] - 0s 871us/step - loss: 1.2599 - val_loss: 0.5557\n",
      "Epoch 2/20\n",
      "363/363 [==============================] - 0s 634us/step - loss: 0.4949 - val_loss: 0.4584\n",
      "Epoch 3/20\n",
      "363/363 [==============================] - 0s 622us/step - loss: 0.4240 - val_loss: 0.4375\n",
      "Epoch 4/20\n",
      "363/363 [==============================] - 0s 642us/step - loss: 0.4026 - val_loss: 0.4206\n",
      "Epoch 5/20\n",
      "363/363 [==============================] - 0s 626us/step - loss: 0.4058 - val_loss: 0.4090\n",
      "Epoch 6/20\n",
      "363/363 [==============================] - 0s 620us/step - loss: 0.4022 - val_loss: 0.4039\n",
      "Epoch 7/20\n",
      "363/363 [==============================] - 0s 619us/step - loss: 0.3868 - val_loss: 0.4003\n",
      "Epoch 8/20\n",
      "363/363 [==============================] - 0s 622us/step - loss: 0.3757 - val_loss: 0.4025\n",
      "Epoch 9/20\n",
      "363/363 [==============================] - 0s 623us/step - loss: 0.3867 - val_loss: 0.3903\n",
      "Epoch 10/20\n",
      "363/363 [==============================] - 0s 621us/step - loss: 0.3740 - val_loss: 0.3948\n",
      "Epoch 11/20\n",
      "363/363 [==============================] - 0s 623us/step - loss: 0.3649 - val_loss: 0.3857\n",
      "Epoch 12/20\n",
      "363/363 [==============================] - 0s 611us/step - loss: 0.3690 - val_loss: 0.3795\n",
      "Epoch 13/20\n",
      "363/363 [==============================] - 0s 626us/step - loss: 0.3644 - val_loss: 0.3942\n",
      "Epoch 14/20\n",
      "363/363 [==============================] - 0s 618us/step - loss: 0.3756 - val_loss: 0.3789\n",
      "Epoch 15/20\n",
      "363/363 [==============================] - 0s 618us/step - loss: 0.3564 - val_loss: 0.3781\n",
      "Epoch 16/20\n",
      "363/363 [==============================] - 0s 622us/step - loss: 0.3704 - val_loss: 0.3733\n",
      "Epoch 17/20\n",
      "363/363 [==============================] - 0s 626us/step - loss: 0.3612 - val_loss: 0.3749\n",
      "Epoch 18/20\n",
      "363/363 [==============================] - 0s 625us/step - loss: 0.3561 - val_loss: 0.3729\n",
      "Epoch 19/20\n",
      "363/363 [==============================] - 0s 613us/step - loss: 0.3580 - val_loss: 0.3711\n",
      "Epoch 20/20\n",
      "363/363 [==============================] - 0s 613us/step - loss: 0.3637 - val_loss: 0.3816\n"
     ]
    }
   ],
   "source": [
    "model = models.Sequential([\n",
    "    layers.Dense(30, activation='relu', input_shape=X_train.shape[1:]),\n",
    "    layers.Dense(1)\n",
    "])\n",
    "model.compile(loss='mean_squared_error', optimizer='sgd')\n",
    "history = model.fit(X_train, y_train, epochs=20, validation_split=0.25)"
   ]
  },
  {
   "cell_type": "code",
   "execution_count": 31,
   "id": "15b2b8ff",
   "metadata": {},
   "outputs": [
    {
     "name": "stdout",
     "output_type": "stream",
     "text": [
      "162/162 [==============================] - 0s 410us/step - loss: 0.4044\n"
     ]
    }
   ],
   "source": [
    "mse_test = model.evaluate(X_test, y_test)"
   ]
  },
  {
   "cell_type": "code",
   "execution_count": 32,
   "id": "2320036f",
   "metadata": {},
   "outputs": [
    {
     "data": {
      "text/plain": [
       "array([[0.69236887],\n",
       "       [1.087235  ],\n",
       "       [2.7844634 ]], dtype=float32)"
      ]
     },
     "execution_count": 32,
     "metadata": {},
     "output_type": "execute_result"
    }
   ],
   "source": [
    "X_new = X_test[:3]\n",
    "y_pred = model.predict(X_new)\n",
    "y_pred"
   ]
  },
  {
   "cell_type": "markdown",
   "id": "13c49780",
   "metadata": {},
   "source": [
    "## Functional API"
   ]
  },
  {
   "cell_type": "markdown",
   "id": "aa4c1b50",
   "metadata": {},
   "source": [
    "### Customizable architecture\n",
    "\n",
    "input -> hidden1 -> hidden2 \\\n",
    "input + hidden2 -> output"
   ]
  },
  {
   "cell_type": "code",
   "execution_count": 33,
   "id": "c0a218b4",
   "metadata": {},
   "outputs": [],
   "source": [
    "input_ = layers.Input(shape=X_train.shape[1:])\n",
    "hidden1 = layers.Dense(30, activation='relu')(input_)\n",
    "hidden2 = layers.Dense(30, activation='relu')(hidden1)\n",
    "concat = layers.Concatenate()([input_, hidden2])\n",
    "output = layers.Dense(1)(concat)\n",
    "model = keras.Model(inputs=[input_], outputs=[output])"
   ]
  },
  {
   "cell_type": "code",
   "execution_count": 34,
   "id": "0cb6dc33",
   "metadata": {},
   "outputs": [
    {
     "name": "stdout",
     "output_type": "stream",
     "text": [
      "Model: \"model\"\n",
      "__________________________________________________________________________________________________\n",
      "Layer (type)                    Output Shape         Param #     Connected to                     \n",
      "==================================================================================================\n",
      "input_2 (InputLayer)            [(None, 8)]          0                                            \n",
      "__________________________________________________________________________________________________\n",
      "dense_8 (Dense)                 (None, 30)           270         input_2[0][0]                    \n",
      "__________________________________________________________________________________________________\n",
      "dense_9 (Dense)                 (None, 30)           930         dense_8[0][0]                    \n",
      "__________________________________________________________________________________________________\n",
      "concatenate (Concatenate)       (None, 38)           0           input_2[0][0]                    \n",
      "                                                                 dense_9[0][0]                    \n",
      "__________________________________________________________________________________________________\n",
      "dense_10 (Dense)                (None, 1)            39          concatenate[0][0]                \n",
      "==================================================================================================\n",
      "Total params: 1,239\n",
      "Trainable params: 1,239\n",
      "Non-trainable params: 0\n",
      "__________________________________________________________________________________________________\n"
     ]
    }
   ],
   "source": [
    "model.summary()"
   ]
  },
  {
   "cell_type": "markdown",
   "id": "7591daba",
   "metadata": {},
   "source": [
    "### Multiple inputs\n",
    "A subset of features go deep and the other subset go wide (concatenate with the hidden layers)"
   ]
  },
  {
   "cell_type": "code",
   "execution_count": 35,
   "id": "e3098a6f",
   "metadata": {},
   "outputs": [],
   "source": [
    "input_A = layers.Input(shape=[5], name='wide_input')\n",
    "input_B = layers.Input(shape=[6], name='deep_input')\n",
    "hidden1 = layers.Dense(30, activation='relu')(input_B)\n",
    "hidden2 = layers.Dense(30, activation='relu')(hidden1)\n",
    "concat = layers.Concatenate()([input_A, hidden2])\n",
    "output = layers.Dense(1)(concat)\n",
    "model = keras.Model(inputs=[input_A, input_B], outputs=[output])"
   ]
  },
  {
   "cell_type": "code",
   "execution_count": 36,
   "id": "af190948",
   "metadata": {},
   "outputs": [
    {
     "name": "stdout",
     "output_type": "stream",
     "text": [
      "Model: \"model_1\"\n",
      "__________________________________________________________________________________________________\n",
      "Layer (type)                    Output Shape         Param #     Connected to                     \n",
      "==================================================================================================\n",
      "deep_input (InputLayer)         [(None, 6)]          0                                            \n",
      "__________________________________________________________________________________________________\n",
      "dense_11 (Dense)                (None, 30)           210         deep_input[0][0]                 \n",
      "__________________________________________________________________________________________________\n",
      "wide_input (InputLayer)         [(None, 5)]          0                                            \n",
      "__________________________________________________________________________________________________\n",
      "dense_12 (Dense)                (None, 30)           930         dense_11[0][0]                   \n",
      "__________________________________________________________________________________________________\n",
      "concatenate_1 (Concatenate)     (None, 35)           0           wide_input[0][0]                 \n",
      "                                                                 dense_12[0][0]                   \n",
      "__________________________________________________________________________________________________\n",
      "dense_13 (Dense)                (None, 1)            36          concatenate_1[0][0]              \n",
      "==================================================================================================\n",
      "Total params: 1,176\n",
      "Trainable params: 1,176\n",
      "Non-trainable params: 0\n",
      "__________________________________________________________________________________________________\n"
     ]
    }
   ],
   "source": [
    "model.summary()"
   ]
  },
  {
   "cell_type": "code",
   "execution_count": 37,
   "id": "29a6c8be",
   "metadata": {},
   "outputs": [],
   "source": [
    "# Need to slice the datasets into 2 to feed in the model\n",
    "model.compile(loss='mse', \n",
    "              optimizer=keras.optimizers.SGD(lr=1e-3))\n",
    "\n",
    "X_train_A, X_train_B = X_train[:, :5], X_train[:, 2:]\n",
    "# X_val_A, X_val_B = X_val[:, :5], X_val[:, 2:]\n",
    "X_test_A, X_test_B = X_test[:, :5], X_test[:, 2:]\n",
    "X_new_A, X_new_B = X_new[:, :5], X_new[:, 2:]"
   ]
  },
  {
   "cell_type": "code",
   "execution_count": 38,
   "id": "e411f992",
   "metadata": {
    "scrolled": true
   },
   "outputs": [
    {
     "name": "stdout",
     "output_type": "stream",
     "text": [
      "Epoch 1/20\n",
      "363/363 [==============================] - 1s 911us/step - loss: 3.1873 - val_loss: 0.8355\n",
      "Epoch 2/20\n",
      "363/363 [==============================] - 0s 684us/step - loss: 0.7921 - val_loss: 0.7114\n",
      "Epoch 3/20\n",
      "363/363 [==============================] - 0s 745us/step - loss: 0.6906 - val_loss: 0.6506\n",
      "Epoch 4/20\n",
      "363/363 [==============================] - 0s 696us/step - loss: 0.6330 - val_loss: 0.6110\n",
      "Epoch 5/20\n",
      "363/363 [==============================] - 0s 689us/step - loss: 0.6048 - val_loss: 0.5834\n",
      "Epoch 6/20\n",
      "363/363 [==============================] - 0s 687us/step - loss: 0.5637 - val_loss: 0.5624\n",
      "Epoch 7/20\n",
      "363/363 [==============================] - 0s 703us/step - loss: 0.5480 - val_loss: 0.5457\n",
      "Epoch 8/20\n",
      "363/363 [==============================] - 0s 724us/step - loss: 0.5317 - val_loss: 0.5332\n",
      "Epoch 9/20\n",
      "363/363 [==============================] - 0s 739us/step - loss: 0.5300 - val_loss: 0.5229\n",
      "Epoch 10/20\n",
      "363/363 [==============================] - 0s 688us/step - loss: 0.5089 - val_loss: 0.5136\n",
      "Epoch 11/20\n",
      "363/363 [==============================] - 0s 694us/step - loss: 0.4883 - val_loss: 0.5056\n",
      "Epoch 12/20\n",
      "363/363 [==============================] - 0s 689us/step - loss: 0.4892 - val_loss: 0.4989\n",
      "Epoch 13/20\n",
      "363/363 [==============================] - 0s 683us/step - loss: 0.4851 - val_loss: 0.4919\n",
      "Epoch 14/20\n",
      "363/363 [==============================] - 0s 683us/step - loss: 0.4837 - val_loss: 0.4863\n",
      "Epoch 15/20\n",
      "363/363 [==============================] - 0s 706us/step - loss: 0.4671 - val_loss: 0.4805\n",
      "Epoch 16/20\n",
      "363/363 [==============================] - 0s 683us/step - loss: 0.4654 - val_loss: 0.4747\n",
      "Epoch 17/20\n",
      "363/363 [==============================] - 0s 680us/step - loss: 0.4539 - val_loss: 0.4693\n",
      "Epoch 18/20\n",
      "363/363 [==============================] - 0s 681us/step - loss: 0.4835 - val_loss: 0.4657\n",
      "Epoch 19/20\n",
      "363/363 [==============================] - 0s 693us/step - loss: 0.4518 - val_loss: 0.4611\n",
      "Epoch 20/20\n",
      "363/363 [==============================] - 0s 750us/step - loss: 0.4645 - val_loss: 0.4566\n"
     ]
    }
   ],
   "source": [
    "history = model.fit([X_train_A, X_train_B], y_train, epochs=20, \n",
    "                    validation_split=0.25)"
   ]
  },
  {
   "cell_type": "code",
   "execution_count": 39,
   "id": "b6702d2a",
   "metadata": {},
   "outputs": [
    {
     "name": "stdout",
     "output_type": "stream",
     "text": [
      "162/162 [==============================] - 0s 458us/step - loss: 0.4900\n"
     ]
    }
   ],
   "source": [
    "mse_test = model.evaluate([X_test_A, X_test_B], y_test)"
   ]
  },
  {
   "cell_type": "code",
   "execution_count": 40,
   "id": "d1b2f4af",
   "metadata": {},
   "outputs": [
    {
     "data": {
      "text/plain": [
       "array([[0.7949897 ],\n",
       "       [0.97717285],\n",
       "       [2.5861146 ]], dtype=float32)"
      ]
     },
     "execution_count": 40,
     "metadata": {},
     "output_type": "execute_result"
    }
   ],
   "source": [
    "y_pred = model.predict([X_new_A, X_new_B])\n",
    "y_pred"
   ]
  },
  {
   "cell_type": "markdown",
   "id": "a8935ff7",
   "metadata": {},
   "source": [
    "### Adding extra output\n",
    "Get the output from hidden2"
   ]
  },
  {
   "cell_type": "code",
   "execution_count": 41,
   "id": "42764c00",
   "metadata": {},
   "outputs": [],
   "source": [
    "input_A = layers.Input(shape=[5], name='wide_input')\n",
    "input_B = layers.Input(shape=[6], name='deep_input')\n",
    "hidden1 = layers.Dense(30, activation='relu')(input_B)\n",
    "hidden2 = layers.Dense(30, activation='relu')(hidden1)\n",
    "concat = layers.Concatenate()([input_A, hidden2])\n",
    "output = layers.Dense(1, name='main_output')(concat)\n",
    "aux_output = layers.Dense(1, name='aux_output')(hidden2)\n",
    "model = keras.Model(inputs=[input_A, input_B], outputs=[output, aux_output])"
   ]
  },
  {
   "cell_type": "code",
   "execution_count": 42,
   "id": "79c8b580",
   "metadata": {
    "scrolled": true
   },
   "outputs": [
    {
     "name": "stdout",
     "output_type": "stream",
     "text": [
      "Epoch 1/20\n",
      "363/363 [==============================] - 1s 1ms/step - loss: 1.3438 - main_output_loss: 1.2524 - aux_output_loss: 2.1668 - val_loss: 0.5735 - val_main_output_loss: 0.5004 - val_aux_output_loss: 1.2320\n",
      "Epoch 2/20\n",
      "363/363 [==============================] - 0s 823us/step - loss: 0.5609 - main_output_loss: 0.4939 - aux_output_loss: 1.1641 - val_loss: 0.4998 - val_main_output_loss: 0.4533 - val_aux_output_loss: 0.9175\n",
      "Epoch 3/20\n",
      "363/363 [==============================] - 0s 823us/step - loss: 0.4888 - main_output_loss: 0.4454 - aux_output_loss: 0.8796 - val_loss: 0.4512 - val_main_output_loss: 0.4176 - val_aux_output_loss: 0.7535\n",
      "Epoch 4/20\n",
      "363/363 [==============================] - 0s 825us/step - loss: 0.4462 - main_output_loss: 0.4146 - aux_output_loss: 0.7299 - val_loss: 0.4386 - val_main_output_loss: 0.4129 - val_aux_output_loss: 0.6701\n",
      "Epoch 5/20\n",
      "363/363 [==============================] - 0s 820us/step - loss: 0.4513 - main_output_loss: 0.4259 - aux_output_loss: 0.6798 - val_loss: 0.4334 - val_main_output_loss: 0.4104 - val_aux_output_loss: 0.6403\n",
      "Epoch 6/20\n",
      "363/363 [==============================] - 0s 822us/step - loss: 0.4340 - main_output_loss: 0.4121 - aux_output_loss: 0.6314 - val_loss: 0.4200 - val_main_output_loss: 0.3992 - val_aux_output_loss: 0.6073\n",
      "Epoch 7/20\n",
      "363/363 [==============================] - 0s 827us/step - loss: 0.4059 - main_output_loss: 0.3853 - aux_output_loss: 0.5912 - val_loss: 0.4125 - val_main_output_loss: 0.3926 - val_aux_output_loss: 0.5913\n",
      "Epoch 8/20\n",
      "363/363 [==============================] - 0s 811us/step - loss: 0.4110 - main_output_loss: 0.3919 - aux_output_loss: 0.5830 - val_loss: 0.4100 - val_main_output_loss: 0.3909 - val_aux_output_loss: 0.5818\n",
      "Epoch 9/20\n",
      "363/363 [==============================] - 0s 808us/step - loss: 0.4060 - main_output_loss: 0.3872 - aux_output_loss: 0.5751 - val_loss: 0.4099 - val_main_output_loss: 0.3918 - val_aux_output_loss: 0.5730\n",
      "Epoch 10/20\n",
      "363/363 [==============================] - 0s 813us/step - loss: 0.3956 - main_output_loss: 0.3776 - aux_output_loss: 0.5578 - val_loss: 0.3955 - val_main_output_loss: 0.3777 - val_aux_output_loss: 0.5559\n",
      "Epoch 11/20\n",
      "363/363 [==============================] - 0s 816us/step - loss: 0.3994 - main_output_loss: 0.3827 - aux_output_loss: 0.5496 - val_loss: 0.3921 - val_main_output_loss: 0.3751 - val_aux_output_loss: 0.5454\n",
      "Epoch 12/20\n",
      "363/363 [==============================] - 0s 811us/step - loss: 0.3948 - main_output_loss: 0.3774 - aux_output_loss: 0.5508 - val_loss: 0.3932 - val_main_output_loss: 0.3766 - val_aux_output_loss: 0.5427\n",
      "Epoch 13/20\n",
      "363/363 [==============================] - 0s 811us/step - loss: 0.3746 - main_output_loss: 0.3576 - aux_output_loss: 0.5272 - val_loss: 0.3862 - val_main_output_loss: 0.3697 - val_aux_output_loss: 0.5348\n",
      "Epoch 14/20\n",
      "363/363 [==============================] - 0s 858us/step - loss: 0.3585 - main_output_loss: 0.3424 - aux_output_loss: 0.5033 - val_loss: 0.3809 - val_main_output_loss: 0.3648 - val_aux_output_loss: 0.5256\n",
      "Epoch 15/20\n",
      "363/363 [==============================] - 0s 828us/step - loss: 0.3769 - main_output_loss: 0.3607 - aux_output_loss: 0.5228 - val_loss: 0.3786 - val_main_output_loss: 0.3624 - val_aux_output_loss: 0.5251\n",
      "Epoch 16/20\n",
      "363/363 [==============================] - 0s 825us/step - loss: 0.3592 - main_output_loss: 0.3439 - aux_output_loss: 0.4976 - val_loss: 0.3723 - val_main_output_loss: 0.3564 - val_aux_output_loss: 0.5148\n",
      "Epoch 17/20\n",
      "363/363 [==============================] - 0s 822us/step - loss: 0.3613 - main_output_loss: 0.3475 - aux_output_loss: 0.4856 - val_loss: 0.3752 - val_main_output_loss: 0.3600 - val_aux_output_loss: 0.5115\n",
      "Epoch 18/20\n",
      "363/363 [==============================] - 0s 883us/step - loss: 0.3793 - main_output_loss: 0.3650 - aux_output_loss: 0.5072 - val_loss: 0.3763 - val_main_output_loss: 0.3619 - val_aux_output_loss: 0.5060\n",
      "Epoch 19/20\n",
      "363/363 [==============================] - 0s 818us/step - loss: 0.3713 - main_output_loss: 0.3578 - aux_output_loss: 0.4931 - val_loss: 0.3751 - val_main_output_loss: 0.3611 - val_aux_output_loss: 0.5012\n",
      "Epoch 20/20\n",
      "363/363 [==============================] - 0s 859us/step - loss: 0.3641 - main_output_loss: 0.3511 - aux_output_loss: 0.4809 - val_loss: 0.3615 - val_main_output_loss: 0.3479 - val_aux_output_loss: 0.4846\n"
     ]
    }
   ],
   "source": [
    "model.compile(loss=['mse', 'mse'], loss_weights=[0.9, 0.1], optimizer='sgd')\n",
    "history = model.fit([X_train_A, X_train_B], [y_train, y_train], \n",
    "                    epochs=20,\n",
    "                    validation_split=0.25)"
   ]
  },
  {
   "cell_type": "code",
   "execution_count": 43,
   "id": "1a5fa74b",
   "metadata": {},
   "outputs": [
    {
     "name": "stdout",
     "output_type": "stream",
     "text": [
      "162/162 [==============================] - 0s 566us/step - loss: 0.3664 - main_output_loss: 0.3506 - aux_output_loss: 0.5084\n"
     ]
    }
   ],
   "source": [
    "total_loss, main_loss, aux_loss = model.evaluate([X_test_A, X_test_B], [y_test, y_test])"
   ]
  },
  {
   "cell_type": "code",
   "execution_count": 44,
   "id": "d8a4a7ee",
   "metadata": {},
   "outputs": [],
   "source": [
    "y_pred_main, y_pred_aux = model.predict([X_new_A, X_new_B])"
   ]
  },
  {
   "cell_type": "code",
   "execution_count": 45,
   "id": "7e66d032",
   "metadata": {},
   "outputs": [
    {
     "name": "stdout",
     "output_type": "stream",
     "text": [
      "[[0.4902187 ]\n",
      " [0.93309873]\n",
      " [2.671112  ]]\n",
      "[[0.5939791]\n",
      " [1.2332693]\n",
      " [2.587754 ]]\n"
     ]
    }
   ],
   "source": [
    "print(y_pred_main)\n",
    "print(y_pred_aux)"
   ]
  },
  {
   "cell_type": "markdown",
   "id": "93a1679b",
   "metadata": {},
   "source": [
    "## Subclassing API for Dynamic Model\n",
    "See examples: https://keras.io/guides/making_new_layers_and_models_via_subclassing/ \\\n",
    "Similar to Pytorch code"
   ]
  },
  {
   "cell_type": "markdown",
   "id": "8ca30ce5",
   "metadata": {},
   "source": [
    "## Save and load the model\n",
    "Won't work with the subclassing API"
   ]
  },
  {
   "cell_type": "code",
   "execution_count": 46,
   "id": "5e105103",
   "metadata": {},
   "outputs": [],
   "source": [
    "model.save('../model/my_keras_model.h5')"
   ]
  },
  {
   "cell_type": "code",
   "execution_count": 47,
   "id": "d63db76e",
   "metadata": {},
   "outputs": [],
   "source": [
    "model_new = models.load_model('../model/my_keras_model.h5')"
   ]
  },
  {
   "cell_type": "markdown",
   "id": "cf1a2ec3",
   "metadata": {},
   "source": [
    "## Callbacks"
   ]
  },
  {
   "cell_type": "markdown",
   "id": "80facb35",
   "metadata": {},
   "source": [
    "- Periodically save models\n",
    "- Early stopping\n",
    "- Etc\n",
    "\n",
    "https://keras.io/api/callbacks/"
   ]
  },
  {
   "cell_type": "markdown",
   "id": "696e2234",
   "metadata": {},
   "source": [
    "## TensorBoard"
   ]
  },
  {
   "cell_type": "code",
   "execution_count": 48,
   "id": "69a1c052",
   "metadata": {},
   "outputs": [],
   "source": [
    "import os\n",
    "import time"
   ]
  },
  {
   "cell_type": "code",
   "execution_count": 49,
   "id": "49f6c793",
   "metadata": {},
   "outputs": [],
   "source": [
    "root_logdir = '../my_logs'"
   ]
  },
  {
   "cell_type": "code",
   "execution_count": 50,
   "id": "252e1bc0",
   "metadata": {},
   "outputs": [],
   "source": [
    "def get_run_logdir():\n",
    "    run_id = time.strftime('run_%Y_%m_%d-%H_%M_%S')\n",
    "    return os.path.join(root_logdir, run_id)"
   ]
  },
  {
   "cell_type": "code",
   "execution_count": 51,
   "id": "1d360bc3",
   "metadata": {},
   "outputs": [
    {
     "data": {
      "text/plain": [
       "'../my_logs/run_2021_06_11-14_02_21'"
      ]
     },
     "execution_count": 51,
     "metadata": {},
     "output_type": "execute_result"
    }
   ],
   "source": [
    "run_logdir = get_run_logdir()\n",
    "run_logdir"
   ]
  },
  {
   "cell_type": "code",
   "execution_count": 52,
   "id": "d8021a55",
   "metadata": {},
   "outputs": [
    {
     "name": "stdout",
     "output_type": "stream",
     "text": [
      "Model: \"sequential_3\"\n",
      "_________________________________________________________________\n",
      "Layer (type)                 Output Shape              Param #   \n",
      "=================================================================\n",
      "flatten_2 (Flatten)          (None, 784)               0         \n",
      "_________________________________________________________________\n",
      "dense_16 (Dense)             (None, 300)               235500    \n",
      "_________________________________________________________________\n",
      "dense_17 (Dense)             (None, 100)               30100     \n",
      "_________________________________________________________________\n",
      "dense_18 (Dense)             (None, 10)                1010      \n",
      "=================================================================\n",
      "Total params: 266,610\n",
      "Trainable params: 266,610\n",
      "Non-trainable params: 0\n",
      "_________________________________________________________________\n"
     ]
    }
   ],
   "source": [
    "(X_train, y_train), (X_test, y_test) = keras.datasets.fashion_mnist.load_data()\n",
    "\n",
    "X_train, X_test = X_train / 255, X_test / 255\n",
    "X_train, X_val, y_train, y_val = train_test_split(X_train, y_train, \n",
    "                                                  test_size=5000, stratify=y_train)\n",
    "\n",
    "class_names = [ \"T-shirt/top\" , \"Trouser\" , \"Pullover\" , \"Dress\" , \"Coat\" , \n",
    "               \"Sandal\" , \"Shirt\" , \"Sneaker\" , \"Bag\" , \"Ankle boot\" ] \n",
    "\n",
    "model = keras.models.Sequential()\n",
    "model.add(keras.layers.Flatten(input_shape=[28, 28]))\n",
    "model.add(keras.layers.Dense(300, activation='relu'))\n",
    "model.add(keras.layers.Dense(100, activation='relu'))\n",
    "model.add(keras.layers.Dense(10, activation='softmax'))\n",
    "\n",
    "model.summary()"
   ]
  },
  {
   "cell_type": "code",
   "execution_count": 53,
   "id": "1761ca73",
   "metadata": {
    "scrolled": true
   },
   "outputs": [
    {
     "name": "stdout",
     "output_type": "stream",
     "text": [
      "Epoch 1/30\n",
      "1719/1719 [==============================] - 3s 1ms/step - loss: 1.0076 - accuracy: 0.6866 - val_loss: 0.5269 - val_accuracy: 0.8246\n",
      "Epoch 2/30\n",
      "1719/1719 [==============================] - 2s 1ms/step - loss: 0.4998 - accuracy: 0.8255 - val_loss: 0.4688 - val_accuracy: 0.8430\n",
      "Epoch 3/30\n",
      "1719/1719 [==============================] - 2s 1ms/step - loss: 0.4549 - accuracy: 0.8414 - val_loss: 0.4670 - val_accuracy: 0.8352\n",
      "Epoch 4/30\n",
      "1719/1719 [==============================] - 2s 1ms/step - loss: 0.4221 - accuracy: 0.8522 - val_loss: 0.4453 - val_accuracy: 0.8414\n",
      "Epoch 5/30\n",
      "1719/1719 [==============================] - 2s 1ms/step - loss: 0.3943 - accuracy: 0.8644 - val_loss: 0.4165 - val_accuracy: 0.8564\n",
      "Epoch 6/30\n",
      "1719/1719 [==============================] - 2s 1ms/step - loss: 0.3802 - accuracy: 0.8655 - val_loss: 0.4013 - val_accuracy: 0.8576\n",
      "Epoch 7/30\n",
      "1719/1719 [==============================] - 2s 1ms/step - loss: 0.3600 - accuracy: 0.8715 - val_loss: 0.4065 - val_accuracy: 0.8550\n",
      "Epoch 8/30\n",
      "1719/1719 [==============================] - 2s 1ms/step - loss: 0.3549 - accuracy: 0.8749 - val_loss: 0.3929 - val_accuracy: 0.8622\n",
      "Epoch 9/30\n",
      "1719/1719 [==============================] - 2s 1ms/step - loss: 0.3475 - accuracy: 0.8777 - val_loss: 0.3632 - val_accuracy: 0.8716\n",
      "Epoch 10/30\n",
      "1719/1719 [==============================] - 2s 1ms/step - loss: 0.3343 - accuracy: 0.8811 - val_loss: 0.3690 - val_accuracy: 0.8672\n",
      "Epoch 11/30\n",
      "1719/1719 [==============================] - 2s 1ms/step - loss: 0.3220 - accuracy: 0.8842 - val_loss: 0.3974 - val_accuracy: 0.8534\n",
      "Epoch 12/30\n",
      "1719/1719 [==============================] - 2s 1ms/step - loss: 0.3123 - accuracy: 0.8885 - val_loss: 0.3622 - val_accuracy: 0.8704\n",
      "Epoch 13/30\n",
      "1719/1719 [==============================] - 2s 1ms/step - loss: 0.3091 - accuracy: 0.8900 - val_loss: 0.3462 - val_accuracy: 0.8752\n",
      "Epoch 14/30\n",
      "1719/1719 [==============================] - 2s 1ms/step - loss: 0.3045 - accuracy: 0.8903 - val_loss: 0.3420 - val_accuracy: 0.8796\n",
      "Epoch 15/30\n",
      "1719/1719 [==============================] - 2s 1ms/step - loss: 0.2969 - accuracy: 0.8938 - val_loss: 0.3389 - val_accuracy: 0.8816\n",
      "Epoch 16/30\n",
      "1719/1719 [==============================] - 2s 1ms/step - loss: 0.2945 - accuracy: 0.8947 - val_loss: 0.3429 - val_accuracy: 0.8802\n",
      "Epoch 17/30\n",
      "1719/1719 [==============================] - 2s 1ms/step - loss: 0.2800 - accuracy: 0.8990 - val_loss: 0.3277 - val_accuracy: 0.8842\n",
      "Epoch 18/30\n",
      "1719/1719 [==============================] - 2s 1ms/step - loss: 0.2722 - accuracy: 0.9025 - val_loss: 0.3599 - val_accuracy: 0.8698\n",
      "Epoch 19/30\n",
      "1719/1719 [==============================] - 2s 1ms/step - loss: 0.2754 - accuracy: 0.8981 - val_loss: 0.3577 - val_accuracy: 0.8754\n",
      "Epoch 20/30\n",
      "1719/1719 [==============================] - 3s 2ms/step - loss: 0.2669 - accuracy: 0.9024 - val_loss: 0.3346 - val_accuracy: 0.8794\n",
      "Epoch 21/30\n",
      "1719/1719 [==============================] - 3s 1ms/step - loss: 0.2624 - accuracy: 0.9042 - val_loss: 0.3415 - val_accuracy: 0.8780\n",
      "Epoch 22/30\n",
      "1719/1719 [==============================] - 2s 1ms/step - loss: 0.2566 - accuracy: 0.9072 - val_loss: 0.3134 - val_accuracy: 0.8866\n",
      "Epoch 23/30\n",
      "1719/1719 [==============================] - 2s 1ms/step - loss: 0.2531 - accuracy: 0.9092 - val_loss: 0.3301 - val_accuracy: 0.8828\n",
      "Epoch 24/30\n",
      "1719/1719 [==============================] - 2s 1ms/step - loss: 0.2427 - accuracy: 0.9116 - val_loss: 0.3238 - val_accuracy: 0.8834\n",
      "Epoch 25/30\n",
      "1719/1719 [==============================] - 2s 1ms/step - loss: 0.2448 - accuracy: 0.9135 - val_loss: 0.3250 - val_accuracy: 0.8806\n",
      "Epoch 26/30\n",
      "1719/1719 [==============================] - 3s 1ms/step - loss: 0.2437 - accuracy: 0.9122 - val_loss: 0.3198 - val_accuracy: 0.8878\n",
      "Epoch 27/30\n",
      "1719/1719 [==============================] - 2s 1ms/step - loss: 0.2370 - accuracy: 0.9128 - val_loss: 0.3146 - val_accuracy: 0.8860\n",
      "Epoch 28/30\n",
      "1719/1719 [==============================] - 2s 1ms/step - loss: 0.2337 - accuracy: 0.9153 - val_loss: 0.3096 - val_accuracy: 0.8900\n",
      "Epoch 29/30\n",
      "1719/1719 [==============================] - 3s 1ms/step - loss: 0.2316 - accuracy: 0.9164 - val_loss: 0.3360 - val_accuracy: 0.8840\n",
      "Epoch 30/30\n",
      "1719/1719 [==============================] - 2s 1ms/step - loss: 0.2263 - accuracy: 0.9181 - val_loss: 0.3353 - val_accuracy: 0.8778\n"
     ]
    }
   ],
   "source": [
    "model.compile(loss='sparse_categorical_crossentropy',\n",
    "             optimizer='sgd',\n",
    "             metrics=['accuracy'])\n",
    "\n",
    "tensorboard_cb = keras.callbacks.TensorBoard(run_logdir)\n",
    "\n",
    "history = model.fit(X_train, y_train, epochs=30, \n",
    "                    validation_data=(X_val, y_val), \n",
    "                    callbacks=[tensorboard_cb])"
   ]
  },
  {
   "cell_type": "code",
   "execution_count": 54,
   "id": "7890634e",
   "metadata": {},
   "outputs": [
    {
     "data": {
      "text/html": [
       "\n",
       "      <iframe id=\"tensorboard-frame-c413bd7cc0fe41f1\" width=\"100%\" height=\"800\" frameborder=\"0\">\n",
       "      </iframe>\n",
       "      <script>\n",
       "        (function() {\n",
       "          const frame = document.getElementById(\"tensorboard-frame-c413bd7cc0fe41f1\");\n",
       "          const url = new URL(\"/\", window.location);\n",
       "          const port = 6006;\n",
       "          if (port) {\n",
       "            url.port = port;\n",
       "          }\n",
       "          frame.src = url;\n",
       "        })();\n",
       "      </script>\n",
       "    "
      ],
      "text/plain": [
       "<IPython.core.display.HTML object>"
      ]
     },
     "metadata": {},
     "output_type": "display_data"
    }
   ],
   "source": [
    "%load_ext tensorboard\n",
    "%tensorboard --logdir=../my_logs"
   ]
  },
  {
   "cell_type": "markdown",
   "id": "b52cb8cb",
   "metadata": {},
   "source": [
    "## Hyperparameter Tuning"
   ]
  },
  {
   "cell_type": "markdown",
   "id": "a63e000c",
   "metadata": {},
   "source": [
    "- Use keras wrappers to make it into Scikit-learn model API and then use RandomSearch or GridSearch\n",
    "- There is Keras Tuner that developed for Keras models\n",
    "- Baysian optimization can also be used, such as Hyperopt\n",
    "- Evolutionary methods can be used, such as Sklearn-Deap"
   ]
  },
  {
   "cell_type": "code",
   "execution_count": null,
   "id": "2b7818fd",
   "metadata": {},
   "outputs": [],
   "source": []
  }
 ],
 "metadata": {
  "hide_input": false,
  "kernelspec": {
   "display_name": "Python 3",
   "language": "python",
   "name": "python3"
  },
  "language_info": {
   "codemirror_mode": {
    "name": "ipython",
    "version": 3
   },
   "file_extension": ".py",
   "mimetype": "text/x-python",
   "name": "python",
   "nbconvert_exporter": "python",
   "pygments_lexer": "ipython3",
   "version": "3.9.4"
  },
  "toc": {
   "base_numbering": 1,
   "nav_menu": {},
   "number_sections": true,
   "sideBar": true,
   "skip_h1_title": false,
   "title_cell": "Table of Contents",
   "title_sidebar": "Contents",
   "toc_cell": true,
   "toc_position": {
    "height": "calc(100% - 180px)",
    "left": "10px",
    "top": "150px",
    "width": "165px"
   },
   "toc_section_display": true,
   "toc_window_display": false
  },
  "varInspector": {
   "cols": {
    "lenName": 16,
    "lenType": 16,
    "lenVar": 40
   },
   "kernels_config": {
    "python": {
     "delete_cmd_postfix": "",
     "delete_cmd_prefix": "del ",
     "library": "var_list.py",
     "varRefreshCmd": "print(var_dic_list())"
    },
    "r": {
     "delete_cmd_postfix": ") ",
     "delete_cmd_prefix": "rm(",
     "library": "var_list.r",
     "varRefreshCmd": "cat(var_dic_list()) "
    }
   },
   "oldHeight": 122.72736400000001,
   "position": {
    "height": "550.724px",
    "left": "1734.61px",
    "right": "20px",
    "top": "156.991px",
    "width": "539.006px"
   },
   "types_to_exclude": [
    "module",
    "function",
    "builtin_function_or_method",
    "instance",
    "_Feature"
   ],
   "varInspector_section_display": "block",
   "window_display": false
  }
 },
 "nbformat": 4,
 "nbformat_minor": 5
}
