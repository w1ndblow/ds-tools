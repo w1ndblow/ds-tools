{
 "cells": [
  {
   "cell_type": "markdown",
   "id": "9cb7d3d8",
   "metadata": {
    "toc": true
   },
   "source": [
    "<h1>Table of Contents<span class=\"tocSkip\"></span></h1>\n",
    "<div class=\"toc\"><ul class=\"toc-item\"><li><span><a href=\"#MLP-Classification---MNIST-Fashion\" data-toc-modified-id=\"MLP-Classification---MNIST-Fashion-1\"><span class=\"toc-item-num\">1&nbsp;&nbsp;</span>MLP Classification - MNIST Fashion</a></span></li><li><span><a href=\"#MLP-Regression---California-Housing\" data-toc-modified-id=\"MLP-Regression---California-Housing-2\"><span class=\"toc-item-num\">2&nbsp;&nbsp;</span>MLP Regression - California Housing</a></span></li><li><span><a href=\"#Functional-API\" data-toc-modified-id=\"Functional-API-3\"><span class=\"toc-item-num\">3&nbsp;&nbsp;</span>Functional API</a></span><ul class=\"toc-item\"><li><span><a href=\"#Customizable-architecture\" data-toc-modified-id=\"Customizable-architecture-3.1\"><span class=\"toc-item-num\">3.1&nbsp;&nbsp;</span>Customizable architecture</a></span></li><li><span><a href=\"#Multiple-inputs\" data-toc-modified-id=\"Multiple-inputs-3.2\"><span class=\"toc-item-num\">3.2&nbsp;&nbsp;</span>Multiple inputs</a></span></li><li><span><a href=\"#Adding-extra-output\" data-toc-modified-id=\"Adding-extra-output-3.3\"><span class=\"toc-item-num\">3.3&nbsp;&nbsp;</span>Adding extra output</a></span></li></ul></li><li><span><a href=\"#Subclassing-API-for-Dynamic-Model\" data-toc-modified-id=\"Subclassing-API-for-Dynamic-Model-4\"><span class=\"toc-item-num\">4&nbsp;&nbsp;</span>Subclassing API for Dynamic Model</a></span></li><li><span><a href=\"#Save-and-load-the-model\" data-toc-modified-id=\"Save-and-load-the-model-5\"><span class=\"toc-item-num\">5&nbsp;&nbsp;</span>Save and load the model</a></span></li></ul></div>"
   ]
  },
  {
   "cell_type": "code",
   "execution_count": 1,
   "id": "8e70ca95",
   "metadata": {
    "hide_input": false
   },
   "outputs": [],
   "source": [
    "import tensorflow as tf\n",
    "from tensorflow import keras\n",
    "from tensorflow.keras import models, layers\n",
    "import matplotlib.pyplot as plt\n",
    "import pandas as pd\n",
    "\n",
    "from sklearn.preprocessing import minmax_scale, StandardScaler\n",
    "from sklearn.model_selection import train_test_split\n",
    "from sklearn.datasets import fetch_california_housing"
   ]
  },
  {
   "cell_type": "code",
   "execution_count": 2,
   "id": "63ebb6d0",
   "metadata": {},
   "outputs": [
    {
     "data": {
      "text/plain": [
       "'2.4.1'"
      ]
     },
     "execution_count": 2,
     "metadata": {},
     "output_type": "execute_result"
    }
   ],
   "source": [
    "tf.__version__"
   ]
  },
  {
   "cell_type": "code",
   "execution_count": 3,
   "id": "f5db273d",
   "metadata": {},
   "outputs": [
    {
     "data": {
      "text/plain": [
       "'2.4.0'"
      ]
     },
     "execution_count": 3,
     "metadata": {},
     "output_type": "execute_result"
    }
   ],
   "source": [
    "keras.__version__"
   ]
  },
  {
   "cell_type": "markdown",
   "id": "5fba0d3a",
   "metadata": {},
   "source": [
    "## MLP Classification - MNIST Fashion"
   ]
  },
  {
   "cell_type": "code",
   "execution_count": 4,
   "id": "85f69d4b",
   "metadata": {},
   "outputs": [],
   "source": [
    "(X_train, y_train), (X_test, y_test) = keras.datasets.fashion_mnist.load_data()"
   ]
  },
  {
   "cell_type": "code",
   "execution_count": 5,
   "id": "4442133f",
   "metadata": {},
   "outputs": [],
   "source": [
    "X_train, X_test = X_train / 255, X_test / 255\n",
    "X_train, X_val, y_train, y_val = train_test_split(X_train, y_train, \n",
    "                                                  test_size=5000, stratify=y_train)"
   ]
  },
  {
   "cell_type": "code",
   "execution_count": 6,
   "id": "2a5bb778",
   "metadata": {},
   "outputs": [],
   "source": [
    "class_names = [ \"T-shirt/top\" , \"Trouser\" , \"Pullover\" , \"Dress\" , \"Coat\" , \n",
    "               \"Sandal\" , \"Shirt\" , \"Sneaker\" , \"Bag\" , \"Ankle boot\" ] "
   ]
  },
  {
   "cell_type": "code",
   "execution_count": 7,
   "id": "bf897654",
   "metadata": {},
   "outputs": [
    {
     "data": {
      "image/png": "[encoded data removed]",
      "text/plain": [
       "<Figure size 360x360 with 1 Axes>"
      ]
     },
     "metadata": {
      "needs_background": "light"
     },
     "output_type": "display_data"
    }
   ],
   "source": [
    "fig = plt.figure(figsize=(5, 5))\n",
    "plt.imshow(X_train[0], cmap='gray_r')\n",
    "plt.axis('off')\n",
    "plt.show()"
   ]
  },
  {
   "cell_type": "code",
   "execution_count": 8,
   "id": "aa389b70",
   "metadata": {},
   "outputs": [
    {
     "data": {
      "text/plain": [
       "'Trouser'"
      ]
     },
     "execution_count": 8,
     "metadata": {},
     "output_type": "execute_result"
    }
   ],
   "source": [
    "class_names[y_train[0]]"
   ]
  },
  {
   "cell_type": "code",
   "execution_count": 9,
   "id": "9d140e49",
   "metadata": {},
   "outputs": [],
   "source": [
    "model = keras.models.Sequential()\n",
    "model.add(keras.layers.Flatten(input_shape=[28, 28]))\n",
    "model.add(keras.layers.Dense(300, activation='relu'))\n",
    "model.add(keras.layers.Dense(100, activation='relu'))\n",
    "model.add(keras.layers.Dense(10, activation='softmax'))"
   ]
  },
  {
   "cell_type": "code",
   "execution_count": 10,
   "id": "1744133f",
   "metadata": {},
   "outputs": [
    {
     "name": "stdout",
     "output_type": "stream",
     "text": [
      "Model: \"sequential\"\n",
      "_________________________________________________________________\n",
      "Layer (type)                 Output Shape              Param #   \n",
      "=================================================================\n",
      "flatten (Flatten)            (None, 784)               0         \n",
      "_________________________________________________________________\n",
      "dense (Dense)                (None, 300)               235500    \n",
      "_________________________________________________________________\n",
      "dense_1 (Dense)              (None, 100)               30100     \n",
      "_________________________________________________________________\n",
      "dense_2 (Dense)              (None, 10)                1010      \n",
      "=================================================================\n",
      "Total params: 266,610\n",
      "Trainable params: 266,610\n",
      "Non-trainable params: 0\n",
      "_________________________________________________________________\n"
     ]
    }
   ],
   "source": [
    "model.summary()"
   ]
  },
  {
   "cell_type": "code",
   "execution_count": 11,
   "id": "22ef0b38",
   "metadata": {},
   "outputs": [],
   "source": [
    "model2 = models.Sequential([ \n",
    "    layers.InputLayer(input_shape=[28, 28]),\n",
    "    layers.Flatten(),\n",
    "    layers.Dense(300, activation='relu'),\n",
    "    layers.Dense(100, activation='relu'),\n",
    "    layers.Dense(10, activation='softmax')\n",
    "])"
   ]
  },
  {
   "cell_type": "code",
   "execution_count": 12,
   "id": "d05336eb",
   "metadata": {},
   "outputs": [
    {
     "name": "stdout",
     "output_type": "stream",
     "text": [
      "Model: \"sequential_1\"\n",
      "_________________________________________________________________\n",
      "Layer (type)                 Output Shape              Param #   \n",
      "=================================================================\n",
      "flatten_1 (Flatten)          (None, 784)               0         \n",
      "_________________________________________________________________\n",
      "dense_3 (Dense)              (None, 300)               235500    \n",
      "_________________________________________________________________\n",
      "dense_4 (Dense)              (None, 100)               30100     \n",
      "_________________________________________________________________\n",
      "dense_5 (Dense)              (None, 10)                1010      \n",
      "=================================================================\n",
      "Total params: 266,610\n",
      "Trainable params: 266,610\n",
      "Non-trainable params: 0\n",
      "_________________________________________________________________\n"
     ]
    }
   ],
   "source": [
    "model2.summary()"
   ]
  },
  {
   "cell_type": "code",
   "execution_count": 13,
   "id": "b6ae6a08",
   "metadata": {},
   "outputs": [
    {
     "data": {
      "text/plain": [
       "[<tensorflow.python.keras.layers.core.Flatten at 0x17f862610>,\n",
       " <tensorflow.python.keras.layers.core.Dense at 0x17f8ea070>,\n",
       " <tensorflow.python.keras.layers.core.Dense at 0x17f9221c0>,\n",
       " <tensorflow.python.keras.layers.core.Dense at 0x17f99d220>]"
      ]
     },
     "execution_count": 13,
     "metadata": {},
     "output_type": "execute_result"
    }
   ],
   "source": [
    "model.layers"
   ]
  },
  {
   "cell_type": "code",
   "execution_count": 14,
   "id": "7542b1d8",
   "metadata": {},
   "outputs": [],
   "source": [
    "hidden1 = model.layers[1]"
   ]
  },
  {
   "cell_type": "code",
   "execution_count": 15,
   "id": "6811cfb1",
   "metadata": {},
   "outputs": [
    {
     "data": {
      "text/plain": [
       "'dense'"
      ]
     },
     "execution_count": 15,
     "metadata": {},
     "output_type": "execute_result"
    }
   ],
   "source": [
    "hidden1.name"
   ]
  },
  {
   "cell_type": "code",
   "execution_count": 16,
   "id": "50833fbc",
   "metadata": {},
   "outputs": [
    {
     "data": {
      "text/plain": [
       "'flatten'"
      ]
     },
     "execution_count": 16,
     "metadata": {},
     "output_type": "execute_result"
    }
   ],
   "source": [
    "model.layers[0].name"
   ]
  },
  {
   "cell_type": "code",
   "execution_count": 17,
   "id": "c4a33b06",
   "metadata": {},
   "outputs": [],
   "source": [
    "weights, biases = hidden1.get_weights()"
   ]
  },
  {
   "cell_type": "code",
   "execution_count": 18,
   "id": "97a43f3a",
   "metadata": {},
   "outputs": [
    {
     "data": {
      "text/plain": [
       "(784, 300)"
      ]
     },
     "execution_count": 18,
     "metadata": {},
     "output_type": "execute_result"
    }
   ],
   "source": [
    "weights.shape"
   ]
  },
  {
   "cell_type": "code",
   "execution_count": 19,
   "id": "78dd3942",
   "metadata": {},
   "outputs": [
    {
     "data": {
      "text/plain": [
       "(300,)"
      ]
     },
     "execution_count": 19,
     "metadata": {},
     "output_type": "execute_result"
    }
   ],
   "source": [
    "biases.shape"
   ]
  },
  {
   "cell_type": "code",
   "execution_count": 20,
   "id": "c0c0586f",
   "metadata": {},
   "outputs": [],
   "source": [
    "model.compile(loss='sparse_categorical_crossentropy',\n",
    "             optimizer='sgd',\n",
    "             metrics=['accuracy'])"
   ]
  },
  {
   "cell_type": "code",
   "execution_count": 21,
   "id": "f3a1bd85",
   "metadata": {
    "scrolled": true
   },
   "outputs": [
    {
     "name": "stdout",
     "output_type": "stream",
     "text": [
      "Epoch 1/30\n",
      "1719/1719 [==============================] - 3s 2ms/step - loss: 0.9782 - accuracy: 0.6835 - val_loss: 0.5606 - val_accuracy: 0.7888\n",
      "Epoch 2/30\n",
      "1719/1719 [==============================] - 2s 1ms/step - loss: 0.5044 - accuracy: 0.8275 - val_loss: 0.4467 - val_accuracy: 0.8416\n",
      "Epoch 3/30\n",
      "1719/1719 [==============================] - 2s 1ms/step - loss: 0.4477 - accuracy: 0.8438 - val_loss: 0.4164 - val_accuracy: 0.8542\n",
      "Epoch 4/30\n",
      "1719/1719 [==============================] - 2s 1ms/step - loss: 0.4255 - accuracy: 0.8504 - val_loss: 0.4055 - val_accuracy: 0.8592\n",
      "Epoch 5/30\n",
      "1719/1719 [==============================] - 2s 1ms/step - loss: 0.3977 - accuracy: 0.8595 - val_loss: 0.3853 - val_accuracy: 0.8642\n",
      "Epoch 6/30\n",
      "1719/1719 [==============================] - 2s 1ms/step - loss: 0.3787 - accuracy: 0.8698 - val_loss: 0.3888 - val_accuracy: 0.8562\n",
      "Epoch 7/30\n",
      "1719/1719 [==============================] - 2s 1ms/step - loss: 0.3672 - accuracy: 0.8726 - val_loss: 0.3646 - val_accuracy: 0.8676\n",
      "Epoch 8/30\n",
      "1719/1719 [==============================] - 2s 1ms/step - loss: 0.3539 - accuracy: 0.8765 - val_loss: 0.3577 - val_accuracy: 0.8718\n",
      "Epoch 9/30\n",
      "1719/1719 [==============================] - 3s 2ms/step - loss: 0.3448 - accuracy: 0.8792 - val_loss: 0.3725 - val_accuracy: 0.8618\n",
      "Epoch 10/30\n",
      "1719/1719 [==============================] - 2s 1ms/step - loss: 0.3425 - accuracy: 0.8790 - val_loss: 0.3595 - val_accuracy: 0.8698\n",
      "Epoch 11/30\n",
      "1719/1719 [==============================] - 2s 1ms/step - loss: 0.3233 - accuracy: 0.8853 - val_loss: 0.3636 - val_accuracy: 0.8656\n",
      "Epoch 12/30\n",
      "1719/1719 [==============================] - 2s 1ms/step - loss: 0.3184 - accuracy: 0.8870 - val_loss: 0.3684 - val_accuracy: 0.8666\n",
      "Epoch 13/30\n",
      "1719/1719 [==============================] - 2s 1ms/step - loss: 0.3125 - accuracy: 0.8869 - val_loss: 0.3399 - val_accuracy: 0.8806\n",
      "Epoch 14/30\n",
      "1719/1719 [==============================] - 2s 1ms/step - loss: 0.3049 - accuracy: 0.8915 - val_loss: 0.3396 - val_accuracy: 0.8748\n",
      "Epoch 15/30\n",
      "1719/1719 [==============================] - 2s 1ms/step - loss: 0.2983 - accuracy: 0.8945 - val_loss: 0.3304 - val_accuracy: 0.8760\n",
      "Epoch 16/30\n",
      "1719/1719 [==============================] - 2s 1ms/step - loss: 0.2872 - accuracy: 0.8967 - val_loss: 0.3350 - val_accuracy: 0.8766\n",
      "Epoch 17/30\n",
      "1719/1719 [==============================] - 2s 1ms/step - loss: 0.2857 - accuracy: 0.8969 - val_loss: 0.3171 - val_accuracy: 0.8808\n",
      "Epoch 18/30\n",
      "1719/1719 [==============================] - 2s 1ms/step - loss: 0.2810 - accuracy: 0.8982 - val_loss: 0.3179 - val_accuracy: 0.8862\n",
      "Epoch 19/30\n",
      "1719/1719 [==============================] - 2s 1ms/step - loss: 0.2695 - accuracy: 0.9030 - val_loss: 0.3436 - val_accuracy: 0.8766\n",
      "Epoch 20/30\n",
      "1719/1719 [==============================] - 2s 1ms/step - loss: 0.2674 - accuracy: 0.9032 - val_loss: 0.3059 - val_accuracy: 0.8872\n",
      "Epoch 21/30\n",
      "1719/1719 [==============================] - 2s 1ms/step - loss: 0.2601 - accuracy: 0.9069 - val_loss: 0.3105 - val_accuracy: 0.8856\n",
      "Epoch 22/30\n",
      "1719/1719 [==============================] - 2s 1ms/step - loss: 0.2558 - accuracy: 0.9082 - val_loss: 0.3258 - val_accuracy: 0.8802\n",
      "Epoch 23/30\n",
      "1719/1719 [==============================] - 3s 1ms/step - loss: 0.2510 - accuracy: 0.9100 - val_loss: 0.3047 - val_accuracy: 0.8888\n",
      "Epoch 24/30\n",
      "1719/1719 [==============================] - 2s 1ms/step - loss: 0.2467 - accuracy: 0.9114 - val_loss: 0.3045 - val_accuracy: 0.8874\n",
      "Epoch 25/30\n",
      "1719/1719 [==============================] - 2s 1ms/step - loss: 0.2434 - accuracy: 0.9122 - val_loss: 0.3108 - val_accuracy: 0.8848\n",
      "Epoch 26/30\n",
      "1719/1719 [==============================] - 2s 1ms/step - loss: 0.2422 - accuracy: 0.9127 - val_loss: 0.3062 - val_accuracy: 0.8906\n",
      "Epoch 27/30\n",
      "1719/1719 [==============================] - 2s 1ms/step - loss: 0.2386 - accuracy: 0.9143 - val_loss: 0.3089 - val_accuracy: 0.8844\n",
      "Epoch 28/30\n",
      "1719/1719 [==============================] - 2s 1ms/step - loss: 0.2331 - accuracy: 0.9157 - val_loss: 0.2971 - val_accuracy: 0.8930\n",
      "Epoch 29/30\n",
      "1719/1719 [==============================] - 2s 1ms/step - loss: 0.2296 - accuracy: 0.9164 - val_loss: 0.2977 - val_accuracy: 0.8920\n",
      "Epoch 30/30\n",
      "1719/1719 [==============================] - 2s 1ms/step - loss: 0.2257 - accuracy: 0.9208 - val_loss: 0.3068 - val_accuracy: 0.8864\n"
     ]
    }
   ],
   "source": [
    "history = model.fit(X_train, y_train, epochs=30, validation_data=(X_val, y_val))"
   ]
  },
  {
   "cell_type": "code",
   "execution_count": 22,
   "id": "2feab163",
   "metadata": {},
   "outputs": [
    {
     "data": {
      "image/png": "[encoded data removed]",
      "text/plain": [
       "<Figure size 576x432 with 1 Axes>"
      ]
     },
     "metadata": {
      "needs_background": "light"
     },
     "output_type": "display_data"
    }
   ],
   "source": [
    "pd.DataFrame(history.history).plot(figsize=(8, 6), grid=True, ylim=[0, 1])\n",
    "plt.show()"
   ]
  },
  {
   "cell_type": "code",
   "execution_count": 23,
   "id": "9596c942",
   "metadata": {},
   "outputs": [
    {
     "name": "stdout",
     "output_type": "stream",
     "text": [
      "313/313 [==============================] - 0s 688us/step - loss: 0.3332 - accuracy: 0.8820\n"
     ]
    },
    {
     "data": {
      "text/plain": [
       "[0.3332008123397827, 0.8820000290870667]"
      ]
     },
     "execution_count": 23,
     "metadata": {},
     "output_type": "execute_result"
    }
   ],
   "source": [
    "model.evaluate(X_test, y_test)"
   ]
  },
  {
   "cell_type": "code",
   "execution_count": 24,
   "id": "266c7980",
   "metadata": {},
   "outputs": [
    {
     "name": "stdout",
     "output_type": "stream",
     "text": [
      "['Ankle boot', 'Pullover', 'Trouser']\n"
     ]
    }
   ],
   "source": [
    "X_new = X_test[:3]\n",
    "y_proba = model.predict(X_new)\n",
    "y_pred = y_proba.argmax(axis=1)\n",
    "print([class_names[i] for i in y_pred])"
   ]
  },
  {
   "cell_type": "code",
   "execution_count": 25,
   "id": "f2c2a2d8",
   "metadata": {},
   "outputs": [
    {
     "data": {
      "image/png": "[encoded data removed]",
      "text/plain": [
       "<Figure size 432x288 with 1 Axes>"
      ]
     },
     "metadata": {
      "needs_background": "light"
     },
     "output_type": "display_data"
    },
    {
     "data": {
      "image/png": "[encoded data removed]",
      "text/plain": [
       "<Figure size 432x288 with 1 Axes>"
      ]
     },
     "metadata": {
      "needs_background": "light"
     },
     "output_type": "display_data"
    },
    {
     "data": {
      "image/png": "[encoded data removed]",
      "text/plain": [
       "<Figure size 432x288 with 1 Axes>"
      ]
     },
     "metadata": {
      "needs_background": "light"
     },
     "output_type": "display_data"
    }
   ],
   "source": [
    "for x in X_new:\n",
    "    plt.axis('off')\n",
    "    plt.imshow(x, cmap='gray_r')\n",
    "    plt.show()"
   ]
  },
  {
   "cell_type": "markdown",
   "id": "a59f5ae8",
   "metadata": {},
   "source": [
    "## MLP Regression - California Housing"
   ]
  },
  {
   "cell_type": "code",
   "execution_count": 26,
   "id": "a306a0c9",
   "metadata": {},
   "outputs": [],
   "source": [
    "housing = fetch_california_housing()"
   ]
  },
  {
   "cell_type": "code",
   "execution_count": 27,
   "id": "08dd3a1d",
   "metadata": {},
   "outputs": [
    {
     "data": {
      "text/plain": [
       "dict_keys(['data', 'target', 'frame', 'target_names', 'feature_names', 'DESCR'])"
      ]
     },
     "execution_count": 27,
     "metadata": {},
     "output_type": "execute_result"
    }
   ],
   "source": [
    "housing.keys()"
   ]
  },
  {
   "cell_type": "code",
   "execution_count": 28,
   "id": "39e17297",
   "metadata": {},
   "outputs": [],
   "source": [
    "X_train, X_test, y_train, y_test = train_test_split(housing['data'], housing['target'])\n",
    "\n",
    "scaler = StandardScaler()\n",
    "X_train = scaler.fit_transform(X_train)\n",
    "X_test = scaler.transform(X_test)"
   ]
  },
  {
   "cell_type": "code",
   "execution_count": 29,
   "id": "e5456dd0",
   "metadata": {},
   "outputs": [
    {
     "data": {
      "text/plain": [
       "8"
      ]
     },
     "execution_count": 29,
     "metadata": {},
     "output_type": "execute_result"
    }
   ],
   "source": [
    "X_train.shape[1]"
   ]
  },
  {
   "cell_type": "code",
   "execution_count": 30,
   "id": "418c0a06",
   "metadata": {
    "scrolled": true
   },
   "outputs": [
    {
     "name": "stdout",
     "output_type": "stream",
     "text": [
      "Epoch 1/20\n",
      "363/363 [==============================] - 0s 839us/step - loss: 1.6121 - val_loss: 1.1312\n",
      "Epoch 2/20\n",
      "363/363 [==============================] - 0s 599us/step - loss: 2.8786 - val_loss: 0.4605\n",
      "Epoch 3/20\n",
      "363/363 [==============================] - 0s 587us/step - loss: 0.4604 - val_loss: 0.4239\n",
      "Epoch 4/20\n",
      "363/363 [==============================] - 0s 608us/step - loss: 0.4445 - val_loss: 0.3954\n",
      "Epoch 5/20\n",
      "363/363 [==============================] - 0s 827us/step - loss: 0.4304 - val_loss: 0.3846\n",
      "Epoch 6/20\n",
      "363/363 [==============================] - 0s 690us/step - loss: 0.4225 - val_loss: 0.3807\n",
      "Epoch 7/20\n",
      "363/363 [==============================] - 0s 593us/step - loss: 0.4030 - val_loss: 0.3810\n",
      "Epoch 8/20\n",
      "363/363 [==============================] - 0s 731us/step - loss: 0.4141 - val_loss: 0.3763\n",
      "Epoch 9/20\n",
      "363/363 [==============================] - 0s 820us/step - loss: 0.3981 - val_loss: 0.3696\n",
      "Epoch 10/20\n",
      "363/363 [==============================] - 0s 842us/step - loss: 0.3994 - val_loss: 0.3653\n",
      "Epoch 11/20\n",
      "363/363 [==============================] - 0s 792us/step - loss: 0.3954 - val_loss: 0.3622\n",
      "Epoch 12/20\n",
      "363/363 [==============================] - 0s 876us/step - loss: 0.3895 - val_loss: 0.3710\n",
      "Epoch 13/20\n",
      "363/363 [==============================] - 0s 758us/step - loss: 0.3945 - val_loss: 0.3666\n",
      "Epoch 14/20\n",
      "363/363 [==============================] - 0s 762us/step - loss: 0.3865 - val_loss: 0.3563\n",
      "Epoch 15/20\n",
      "363/363 [==============================] - 0s 779us/step - loss: 0.3786 - val_loss: 0.3563\n",
      "Epoch 16/20\n",
      "363/363 [==============================] - 0s 752us/step - loss: 0.3795 - val_loss: 0.3553\n",
      "Epoch 17/20\n",
      "363/363 [==============================] - 0s 773us/step - loss: 0.3655 - val_loss: 0.3558\n",
      "Epoch 18/20\n",
      "363/363 [==============================] - 0s 751us/step - loss: 0.3867 - val_loss: 0.3533\n",
      "Epoch 19/20\n",
      "363/363 [==============================] - 0s 765us/step - loss: 0.3931 - val_loss: 0.3489\n",
      "Epoch 20/20\n",
      "363/363 [==============================] - 0s 762us/step - loss: 0.3876 - val_loss: 0.3481\n"
     ]
    }
   ],
   "source": [
    "model = models.Sequential([\n",
    "    layers.Dense(30, activation='relu', input_shape=X_train.shape[1:]),\n",
    "    layers.Dense(1)\n",
    "])\n",
    "model.compile(loss='mean_squared_error', optimizer='sgd')\n",
    "history = model.fit(X_train, y_train, epochs=20, validation_split=0.25)"
   ]
  },
  {
   "cell_type": "code",
   "execution_count": 31,
   "id": "15b2b8ff",
   "metadata": {},
   "outputs": [
    {
     "name": "stdout",
     "output_type": "stream",
     "text": [
      "162/162 [==============================] - 0s 415us/step - loss: 0.3729\n"
     ]
    }
   ],
   "source": [
    "mse_test = model.evaluate(X_test, y_test)"
   ]
  },
  {
   "cell_type": "code",
   "execution_count": 32,
   "id": "2320036f",
   "metadata": {},
   "outputs": [
    {
     "data": {
      "text/plain": [
       "array([[0.8066754],\n",
       "       [1.0461134],\n",
       "       [1.2889193]], dtype=float32)"
      ]
     },
     "execution_count": 32,
     "metadata": {},
     "output_type": "execute_result"
    }
   ],
   "source": [
    "X_new = X_test[:3]\n",
    "y_pred = model.predict(X_new)\n",
    "y_pred"
   ]
  },
  {
   "cell_type": "markdown",
   "id": "13c49780",
   "metadata": {},
   "source": [
    "## Functional API"
   ]
  },
  {
   "cell_type": "markdown",
   "id": "aa4c1b50",
   "metadata": {},
   "source": [
    "### Customizable architecture\n",
    "\n",
    "input -> hidden1 -> hidden2 \\\n",
    "input + hidden2 -> output"
   ]
  },
  {
   "cell_type": "code",
   "execution_count": 33,
   "id": "c0a218b4",
   "metadata": {},
   "outputs": [],
   "source": [
    "input_ = layers.Input(shape=X_train.shape[1:])\n",
    "hidden1 = layers.Dense(30, activation='relu')(input_)\n",
    "hidden2 = layers.Dense(30, activation='relu')(hidden1)\n",
    "concat = layers.Concatenate()([input_, hidden2])\n",
    "output = layers.Dense(1)(concat)\n",
    "model = keras.Model(inputs=[input_], outputs=[output])"
   ]
  },
  {
   "cell_type": "code",
   "execution_count": 34,
   "id": "0cb6dc33",
   "metadata": {},
   "outputs": [
    {
     "name": "stdout",
     "output_type": "stream",
     "text": [
      "Model: \"model\"\n",
      "__________________________________________________________________________________________________\n",
      "Layer (type)                    Output Shape         Param #     Connected to                     \n",
      "==================================================================================================\n",
      "input_2 (InputLayer)            [(None, 8)]          0                                            \n",
      "__________________________________________________________________________________________________\n",
      "dense_8 (Dense)                 (None, 30)           270         input_2[0][0]                    \n",
      "__________________________________________________________________________________________________\n",
      "dense_9 (Dense)                 (None, 30)           930         dense_8[0][0]                    \n",
      "__________________________________________________________________________________________________\n",
      "concatenate (Concatenate)       (None, 38)           0           input_2[0][0]                    \n",
      "                                                                 dense_9[0][0]                    \n",
      "__________________________________________________________________________________________________\n",
      "dense_10 (Dense)                (None, 1)            39          concatenate[0][0]                \n",
      "==================================================================================================\n",
      "Total params: 1,239\n",
      "Trainable params: 1,239\n",
      "Non-trainable params: 0\n",
      "__________________________________________________________________________________________________\n"
     ]
    }
   ],
   "source": [
    "model.summary()"
   ]
  },
  {
   "cell_type": "markdown",
   "id": "7591daba",
   "metadata": {},
   "source": [
    "### Multiple inputs\n",
    "A subset of features go deep and the other subset go wide (concatenate with the hidden layers)"
   ]
  },
  {
   "cell_type": "code",
   "execution_count": 35,
   "id": "e3098a6f",
   "metadata": {},
   "outputs": [],
   "source": [
    "input_A = layers.Input(shape=[5], name='wide_input')\n",
    "input_B = layers.Input(shape=[6], name='deep_input')\n",
    "hidden1 = layers.Dense(30, activation='relu')(input_B)\n",
    "hidden2 = layers.Dense(30, activation='relu')(hidden1)\n",
    "concat = layers.Concatenate()([input_A, hidden2])\n",
    "output = layers.Dense(1)(concat)\n",
    "model = keras.Model(inputs=[input_A, input_B], outputs=[output])"
   ]
  },
  {
   "cell_type": "code",
   "execution_count": 36,
   "id": "af190948",
   "metadata": {},
   "outputs": [
    {
     "name": "stdout",
     "output_type": "stream",
     "text": [
      "Model: \"model_1\"\n",
      "__________________________________________________________________________________________________\n",
      "Layer (type)                    Output Shape         Param #     Connected to                     \n",
      "==================================================================================================\n",
      "deep_input (InputLayer)         [(None, 6)]          0                                            \n",
      "__________________________________________________________________________________________________\n",
      "dense_11 (Dense)                (None, 30)           210         deep_input[0][0]                 \n",
      "__________________________________________________________________________________________________\n",
      "wide_input (InputLayer)         [(None, 5)]          0                                            \n",
      "__________________________________________________________________________________________________\n",
      "dense_12 (Dense)                (None, 30)           930         dense_11[0][0]                   \n",
      "__________________________________________________________________________________________________\n",
      "concatenate_1 (Concatenate)     (None, 35)           0           wide_input[0][0]                 \n",
      "                                                                 dense_12[0][0]                   \n",
      "__________________________________________________________________________________________________\n",
      "dense_13 (Dense)                (None, 1)            36          concatenate_1[0][0]              \n",
      "==================================================================================================\n",
      "Total params: 1,176\n",
      "Trainable params: 1,176\n",
      "Non-trainable params: 0\n",
      "__________________________________________________________________________________________________\n"
     ]
    }
   ],
   "source": [
    "model.summary()"
   ]
  },
  {
   "cell_type": "code",
   "execution_count": 37,
   "id": "29a6c8be",
   "metadata": {},
   "outputs": [],
   "source": [
    "# Need to slice the datasets into 2 to feed in the model\n",
    "model.compile(loss='mse', \n",
    "              optimizer=keras.optimizers.SGD(lr=1e-3))\n",
    "\n",
    "X_train_A, X_train_B = X_train[:, :5], X_train[:, 2:]\n",
    "# X_val_A, X_val_B = X_val[:, :5], X_val[:, 2:]\n",
    "X_test_A, X_test_B = X_test[:, :5], X_test[:, 2:]\n",
    "X_new_A, X_new_B = X_new[:, :5], X_new[:, 2:]"
   ]
  },
  {
   "cell_type": "code",
   "execution_count": 38,
   "id": "e411f992",
   "metadata": {
    "scrolled": true
   },
   "outputs": [
    {
     "name": "stdout",
     "output_type": "stream",
     "text": [
      "Epoch 1/20\n",
      "363/363 [==============================] - 1s 1ms/step - loss: 3.1767 - val_loss: 0.8562\n",
      "Epoch 2/20\n",
      "363/363 [==============================] - 0s 975us/step - loss: 0.8560 - val_loss: 0.6730\n",
      "Epoch 3/20\n",
      "363/363 [==============================] - 0s 976us/step - loss: 0.6995 - val_loss: 0.6136\n",
      "Epoch 4/20\n",
      "363/363 [==============================] - 0s 744us/step - loss: 0.6267 - val_loss: 0.5831\n",
      "Epoch 5/20\n",
      "363/363 [==============================] - 0s 744us/step - loss: 0.5963 - val_loss: 0.5589\n",
      "Epoch 6/20\n",
      "363/363 [==============================] - 0s 789us/step - loss: 0.5800 - val_loss: 0.5419\n",
      "Epoch 7/20\n",
      "363/363 [==============================] - 0s 729us/step - loss: 0.5551 - val_loss: 0.5270\n",
      "Epoch 8/20\n",
      "363/363 [==============================] - 0s 764us/step - loss: 0.5733 - val_loss: 0.5152\n",
      "Epoch 9/20\n",
      "363/363 [==============================] - 0s 853us/step - loss: 0.5573 - val_loss: 0.5063\n",
      "Epoch 10/20\n",
      "363/363 [==============================] - 0s 731us/step - loss: 0.5554 - val_loss: 0.4989\n",
      "Epoch 11/20\n",
      "363/363 [==============================] - 0s 772us/step - loss: 0.5159 - val_loss: 0.4918\n",
      "Epoch 12/20\n",
      "363/363 [==============================] - 0s 727us/step - loss: 0.5331 - val_loss: 0.4872\n",
      "Epoch 13/20\n",
      "363/363 [==============================] - 0s 722us/step - loss: 0.5309 - val_loss: 0.4819\n",
      "Epoch 14/20\n",
      "363/363 [==============================] - 0s 884us/step - loss: 0.5062 - val_loss: 0.4773\n",
      "Epoch 15/20\n",
      "363/363 [==============================] - 0s 792us/step - loss: 0.5123 - val_loss: 0.4734\n",
      "Epoch 16/20\n",
      "363/363 [==============================] - 0s 706us/step - loss: 0.5145 - val_loss: 0.4702\n",
      "Epoch 17/20\n",
      "363/363 [==============================] - 0s 725us/step - loss: 0.5036 - val_loss: 0.4662\n",
      "Epoch 18/20\n",
      "363/363 [==============================] - 0s 707us/step - loss: 0.4869 - val_loss: 0.4633\n",
      "Epoch 19/20\n",
      "363/363 [==============================] - 0s 712us/step - loss: 0.5012 - val_loss: 0.4606\n",
      "Epoch 20/20\n",
      "363/363 [==============================] - 0s 713us/step - loss: 0.4984 - val_loss: 0.4582\n"
     ]
    }
   ],
   "source": [
    "history = model.fit([X_train_A, X_train_B], y_train, epochs=20, \n",
    "                    validation_split=0.25)"
   ]
  },
  {
   "cell_type": "code",
   "execution_count": 39,
   "id": "b6702d2a",
   "metadata": {},
   "outputs": [
    {
     "name": "stdout",
     "output_type": "stream",
     "text": [
      "162/162 [==============================] - 0s 433us/step - loss: 0.4948\n"
     ]
    }
   ],
   "source": [
    "mse_test = model.evaluate([X_test_A, X_test_B], y_test)"
   ]
  },
  {
   "cell_type": "code",
   "execution_count": 40,
   "id": "d1b2f4af",
   "metadata": {},
   "outputs": [
    {
     "data": {
      "text/plain": [
       "array([[0.9381594],\n",
       "       [0.5459122],\n",
       "       [1.1018821]], dtype=float32)"
      ]
     },
     "execution_count": 40,
     "metadata": {},
     "output_type": "execute_result"
    }
   ],
   "source": [
    "y_pred = model.predict([X_new_A, X_new_B])\n",
    "y_pred"
   ]
  },
  {
   "cell_type": "markdown",
   "id": "a8935ff7",
   "metadata": {},
   "source": [
    "### Adding extra output\n",
    "Get the output from hidden2"
   ]
  },
  {
   "cell_type": "code",
   "execution_count": 55,
   "id": "42764c00",
   "metadata": {},
   "outputs": [],
   "source": [
    "input_A = layers.Input(shape=[5], name='wide_input')\n",
    "input_B = layers.Input(shape=[6], name='deep_input')\n",
    "hidden1 = layers.Dense(30, activation='relu')(input_B)\n",
    "hidden2 = layers.Dense(30, activation='relu')(hidden1)\n",
    "concat = layers.Concatenate()([input_A, hidden2])\n",
    "output = layers.Dense(1, name='main_output')(concat)\n",
    "aux_output = layers.Dense(1, name='aux_output')(hidden2)\n",
    "model = keras.Model(inputs=[input_A, input_B], outputs=[output, aux_output])"
   ]
  },
  {
   "cell_type": "code",
   "execution_count": 57,
   "id": "6004fd72",
   "metadata": {
    "scrolled": true
   },
   "outputs": [
    {
     "name": "stdout",
     "output_type": "stream",
     "text": [
      "Epoch 1/20\n",
      "363/363 [==============================] - 1s 1ms/step - loss: 1.5441 - main_output_loss: 1.3395 - aux_output_loss: 3.3856 - val_loss: 0.6226 - val_main_output_loss: 0.5386 - val_aux_output_loss: 1.3786\n",
      "Epoch 2/20\n",
      "363/363 [==============================] - 0s 810us/step - loss: 0.6498 - main_output_loss: 0.5772 - aux_output_loss: 1.3034 - val_loss: 0.5473 - val_main_output_loss: 0.4791 - val_aux_output_loss: 1.1609\n",
      "Epoch 3/20\n",
      "363/363 [==============================] - 0s 817us/step - loss: 0.6058 - main_output_loss: 0.5433 - aux_output_loss: 1.1685 - val_loss: 0.5129 - val_main_output_loss: 0.4576 - val_aux_output_loss: 1.0104\n",
      "Epoch 4/20\n",
      "363/363 [==============================] - 0s 820us/step - loss: 0.5569 - main_output_loss: 0.5023 - aux_output_loss: 1.0484 - val_loss: 0.4831 - val_main_output_loss: 0.4385 - val_aux_output_loss: 0.8848\n",
      "Epoch 5/20\n",
      "363/363 [==============================] - 0s 828us/step - loss: 0.5165 - main_output_loss: 0.4746 - aux_output_loss: 0.8936 - val_loss: 0.4618 - val_main_output_loss: 0.4265 - val_aux_output_loss: 0.7793\n",
      "Epoch 6/20\n",
      "363/363 [==============================] - 0s 838us/step - loss: 0.4901 - main_output_loss: 0.4577 - aux_output_loss: 0.7817 - val_loss: 0.4477 - val_main_output_loss: 0.4187 - val_aux_output_loss: 0.7084\n",
      "Epoch 7/20\n",
      "363/363 [==============================] - 0s 829us/step - loss: 0.4643 - main_output_loss: 0.4370 - aux_output_loss: 0.7103 - val_loss: 0.4379 - val_main_output_loss: 0.4137 - val_aux_output_loss: 0.6554\n",
      "Epoch 8/20\n",
      "363/363 [==============================] - 0s 862us/step - loss: 0.4547 - main_output_loss: 0.4300 - aux_output_loss: 0.6765 - val_loss: 0.4189 - val_main_output_loss: 0.3963 - val_aux_output_loss: 0.6226\n",
      "Epoch 9/20\n",
      "363/363 [==============================] - 0s 849us/step - loss: 0.4426 - main_output_loss: 0.4176 - aux_output_loss: 0.6678 - val_loss: 0.4082 - val_main_output_loss: 0.3860 - val_aux_output_loss: 0.6077\n",
      "Epoch 10/20\n",
      "363/363 [==============================] - 0s 837us/step - loss: 0.4333 - main_output_loss: 0.4121 - aux_output_loss: 0.6237 - val_loss: 0.4613 - val_main_output_loss: 0.4457 - val_aux_output_loss: 0.6014\n",
      "Epoch 11/20\n",
      "363/363 [==============================] - 0s 883us/step - loss: 0.4232 - main_output_loss: 0.4045 - aux_output_loss: 0.5912 - val_loss: 0.3882 - val_main_output_loss: 0.3683 - val_aux_output_loss: 0.5665\n",
      "Epoch 12/20\n",
      "363/363 [==============================] - 0s 839us/step - loss: 0.4286 - main_output_loss: 0.4092 - aux_output_loss: 0.6030 - val_loss: 0.3950 - val_main_output_loss: 0.3767 - val_aux_output_loss: 0.5599\n",
      "Epoch 13/20\n",
      "363/363 [==============================] - 0s 850us/step - loss: 0.4066 - main_output_loss: 0.3885 - aux_output_loss: 0.5696 - val_loss: 0.3712 - val_main_output_loss: 0.3523 - val_aux_output_loss: 0.5417\n",
      "Epoch 14/20\n",
      "363/363 [==============================] - 0s 824us/step - loss: 0.4107 - main_output_loss: 0.3914 - aux_output_loss: 0.5844 - val_loss: 0.3817 - val_main_output_loss: 0.3651 - val_aux_output_loss: 0.5307\n",
      "Epoch 15/20\n",
      "363/363 [==============================] - 0s 860us/step - loss: 0.4021 - main_output_loss: 0.3838 - aux_output_loss: 0.5666 - val_loss: 0.3601 - val_main_output_loss: 0.3422 - val_aux_output_loss: 0.5210\n",
      "Epoch 16/20\n",
      "363/363 [==============================] - 0s 802us/step - loss: 0.3696 - main_output_loss: 0.3536 - aux_output_loss: 0.5140 - val_loss: 0.3678 - val_main_output_loss: 0.3512 - val_aux_output_loss: 0.5166\n",
      "Epoch 17/20\n",
      "363/363 [==============================] - 0s 873us/step - loss: 0.3823 - main_output_loss: 0.3664 - aux_output_loss: 0.5252 - val_loss: 0.3597 - val_main_output_loss: 0.3436 - val_aux_output_loss: 0.5046\n",
      "Epoch 18/20\n",
      "363/363 [==============================] - 0s 867us/step - loss: 0.3768 - main_output_loss: 0.3617 - aux_output_loss: 0.5128 - val_loss: 0.3542 - val_main_output_loss: 0.3385 - val_aux_output_loss: 0.4950\n",
      "Epoch 19/20\n",
      "363/363 [==============================] - 0s 844us/step - loss: 0.3874 - main_output_loss: 0.3715 - aux_output_loss: 0.5311 - val_loss: 0.3464 - val_main_output_loss: 0.3301 - val_aux_output_loss: 0.4932\n",
      "Epoch 20/20\n",
      "363/363 [==============================] - 0s 862us/step - loss: 0.3757 - main_output_loss: 0.3598 - aux_output_loss: 0.5192 - val_loss: 0.3455 - val_main_output_loss: 0.3295 - val_aux_output_loss: 0.4894\n"
     ]
    }
   ],
   "source": [
    "model.compile(loss=['mse', 'mse'], loss_weights=[0.9, 0.1], optimizer='sgd')\n",
    "history = model.fit([X_train_A, X_train_B], [y_train, y_train], \n",
    "                    epochs=20,\n",
    "                    validation_split=0.25)"
   ]
  },
  {
   "cell_type": "code",
   "execution_count": 58,
   "id": "92ac2264",
   "metadata": {},
   "outputs": [
    {
     "name": "stdout",
     "output_type": "stream",
     "text": [
      "162/162 [==============================] - 0s 651us/step - loss: 0.3736 - main_output_loss: 0.3576 - aux_output_loss: 0.5177\n"
     ]
    }
   ],
   "source": [
    "total_loss, main_loss, aux_loss = model.evaluate([X_test_A, X_test_B], [y_test, y_test])"
   ]
  },
  {
   "cell_type": "code",
   "execution_count": 59,
   "id": "92114a72",
   "metadata": {},
   "outputs": [],
   "source": [
    "y_pred_main, y_pred_aux = model.predict([X_new_A, X_new_B])"
   ]
  },
  {
   "cell_type": "code",
   "execution_count": 60,
   "id": "a04f293a",
   "metadata": {},
   "outputs": [
    {
     "name": "stdout",
     "output_type": "stream",
     "text": [
      "[[0.75545996]\n",
      " [0.8937127 ]\n",
      " [1.1646376 ]]\n",
      "[[1.3192434]\n",
      " [0.9304926]\n",
      " [1.4566332]]\n"
     ]
    }
   ],
   "source": [
    "print(y_pred_main)\n",
    "print(y_pred_aux)"
   ]
  },
  {
   "cell_type": "markdown",
   "id": "16004e02",
   "metadata": {},
   "source": [
    "## Subclassing API for Dynamic Model\n",
    "See examples: https://www.tensorflow.org/guide/keras/custom_layers_and_models \\\n",
    "Similar to Pytorch code"
   ]
  },
  {
   "cell_type": "markdown",
   "id": "3c684c89",
   "metadata": {},
   "source": [
    "## Save and load the model\n",
    "Won't work with the subclassing API"
   ]
  },
  {
   "cell_type": "code",
   "execution_count": 61,
   "id": "f4ee23ac",
   "metadata": {},
   "outputs": [],
   "source": [
    "model.save('my_keras_model.h5')"
   ]
  },
  {
   "cell_type": "code",
   "execution_count": 62,
   "id": "c5410c60",
   "metadata": {},
   "outputs": [],
   "source": [
    "model_new = models.load_model('my_keras_model.h5')"
   ]
  },
  {
   "cell_type": "code",
   "execution_count": null,
   "id": "291cc2cd",
   "metadata": {},
   "outputs": [],
   "source": []
  }
 ],
 "metadata": {
  "hide_input": false,
  "kernelspec": {
   "display_name": "Python 3",
   "language": "python",
   "name": "python3"
  },
  "language_info": {
   "codemirror_mode": {
    "name": "ipython",
    "version": 3
   },
   "file_extension": ".py",
   "mimetype": "text/x-python",
   "name": "python",
   "nbconvert_exporter": "python",
   "pygments_lexer": "ipython3",
   "version": "3.9.4"
  },
  "toc": {
   "base_numbering": 1,
   "nav_menu": {},
   "number_sections": true,
   "sideBar": true,
   "skip_h1_title": false,
   "title_cell": "Table of Contents",
   "title_sidebar": "Contents",
   "toc_cell": true,
   "toc_position": {},
   "toc_section_display": true,
   "toc_window_display": false
  },
  "varInspector": {
   "cols": {
    "lenName": 16,
    "lenType": 16,
    "lenVar": 40
   },
   "kernels_config": {
    "python": {
     "delete_cmd_postfix": "",
     "delete_cmd_prefix": "del ",
     "library": "var_list.py",
     "varRefreshCmd": "print(var_dic_list())"
    },
    "r": {
     "delete_cmd_postfix": ") ",
     "delete_cmd_prefix": "rm(",
     "library": "var_list.r",
     "varRefreshCmd": "cat(var_dic_list()) "
    }
   },
   "oldHeight": 122.72736400000001,
   "position": {
    "height": "550.724px",
    "left": "1734.61px",
    "right": "20px",
    "top": "156.991px",
    "width": "539.006px"
   },
   "types_to_exclude": [
    "module",
    "function",
    "builtin_function_or_method",
    "instance",
    "_Feature"
   ],
   "varInspector_section_display": "block",
   "window_display": false
  }
 },
 "nbformat": 4,
 "nbformat_minor": 5
}
